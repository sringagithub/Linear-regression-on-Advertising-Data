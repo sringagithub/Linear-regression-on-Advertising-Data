{
 "cells": [
  {
   "cell_type": "markdown",
   "metadata": {},
   "source": [
    "# Linear regression on Google Playstore data"
   ]
  },
  {
   "cell_type": "code",
   "execution_count": 226,
   "metadata": {},
   "outputs": [],
   "source": [
    "import pandas as pd\n",
    "import numpy as np\n",
    "import matplotlib.pyplot as plt\n",
    "%matplotlib inline\n",
    "import seaborn as sns"
   ]
  },
  {
   "cell_type": "code",
   "execution_count": 227,
   "metadata": {},
   "outputs": [],
   "source": [
    "data=pd.read_csv(\"D:\\\\fortray\\\\googleplaystore.csv\")"
   ]
  },
  {
   "cell_type": "code",
   "execution_count": 228,
   "metadata": {},
   "outputs": [
    {
     "data": {
      "text/plain": [
       "App                  0\n",
       "Category             0\n",
       "Rating            1474\n",
       "Reviews              0\n",
       "Size                 0\n",
       "Installs             0\n",
       "Type                 1\n",
       "Price                0\n",
       "Content_Rating       1\n",
       "Genres               0\n",
       "Last Updated         0\n",
       "Current Ver          8\n",
       "Android Ver          3\n",
       "dtype: int64"
      ]
     },
     "execution_count": 228,
     "metadata": {},
     "output_type": "execute_result"
    }
   ],
   "source": [
    "data.isnull().sum()"
   ]
  },
  {
   "cell_type": "code",
   "execution_count": 229,
   "metadata": {},
   "outputs": [],
   "source": [
    "data.dropna(how ='any', inplace = True)"
   ]
  },
  {
   "cell_type": "code",
   "execution_count": 230,
   "metadata": {},
   "outputs": [
    {
     "data": {
      "text/plain": [
       "Index(['App', 'Category', 'Rating', 'Reviews', 'Size', 'Installs', 'Type',\n",
       "       'Price', 'Content_Rating', 'Genres', 'Last Updated', 'Current Ver',\n",
       "       'Android Ver'],\n",
       "      dtype='object')"
      ]
     },
     "execution_count": 230,
     "metadata": {},
     "output_type": "execute_result"
    }
   ],
   "source": [
    "data.columns"
   ]
  },
  {
   "cell_type": "code",
   "execution_count": 231,
   "metadata": {},
   "outputs": [],
   "source": [
    "data.drop([\"App\",\"Last Updated\",\"Current Ver\",\"Android Ver\",\"Category\"],axis=1,inplace=True)"
   ]
  },
  {
   "cell_type": "code",
   "execution_count": 232,
   "metadata": {},
   "outputs": [
    {
     "data": {
      "text/html": [
       "<div>\n",
       "<style scoped>\n",
       "    .dataframe tbody tr th:only-of-type {\n",
       "        vertical-align: middle;\n",
       "    }\n",
       "\n",
       "    .dataframe tbody tr th {\n",
       "        vertical-align: top;\n",
       "    }\n",
       "\n",
       "    .dataframe thead th {\n",
       "        text-align: right;\n",
       "    }\n",
       "</style>\n",
       "<table border=\"1\" class=\"dataframe\">\n",
       "  <thead>\n",
       "    <tr style=\"text-align: right;\">\n",
       "      <th></th>\n",
       "      <th>Rating</th>\n",
       "      <th>Reviews</th>\n",
       "      <th>Size</th>\n",
       "      <th>Installs</th>\n",
       "      <th>Type</th>\n",
       "      <th>Price</th>\n",
       "      <th>Content_Rating</th>\n",
       "      <th>Genres</th>\n",
       "    </tr>\n",
       "  </thead>\n",
       "  <tbody>\n",
       "    <tr>\n",
       "      <th>0</th>\n",
       "      <td>4.1</td>\n",
       "      <td>159</td>\n",
       "      <td>19M</td>\n",
       "      <td>10,000+</td>\n",
       "      <td>Free</td>\n",
       "      <td>0</td>\n",
       "      <td>Everyone</td>\n",
       "      <td>Art_&amp;_Design</td>\n",
       "    </tr>\n",
       "    <tr>\n",
       "      <th>1</th>\n",
       "      <td>3.9</td>\n",
       "      <td>967</td>\n",
       "      <td>14M</td>\n",
       "      <td>500,000+</td>\n",
       "      <td>Free</td>\n",
       "      <td>0</td>\n",
       "      <td>Everyone</td>\n",
       "      <td>Art_&amp;_Design_Pretend_Play</td>\n",
       "    </tr>\n",
       "    <tr>\n",
       "      <th>2</th>\n",
       "      <td>4.7</td>\n",
       "      <td>87510</td>\n",
       "      <td>8.7M</td>\n",
       "      <td>5,000,000+</td>\n",
       "      <td>Free</td>\n",
       "      <td>0</td>\n",
       "      <td>Everyone</td>\n",
       "      <td>Art_&amp;_Design</td>\n",
       "    </tr>\n",
       "    <tr>\n",
       "      <th>3</th>\n",
       "      <td>4.5</td>\n",
       "      <td>215644</td>\n",
       "      <td>25M</td>\n",
       "      <td>50,000,000+</td>\n",
       "      <td>Free</td>\n",
       "      <td>0</td>\n",
       "      <td>Teen</td>\n",
       "      <td>Art_&amp;_Design</td>\n",
       "    </tr>\n",
       "    <tr>\n",
       "      <th>4</th>\n",
       "      <td>4.3</td>\n",
       "      <td>967</td>\n",
       "      <td>2.8M</td>\n",
       "      <td>100,000+</td>\n",
       "      <td>Free</td>\n",
       "      <td>0</td>\n",
       "      <td>Everyone</td>\n",
       "      <td>Art_&amp;_Design_Creativity</td>\n",
       "    </tr>\n",
       "    <tr>\n",
       "      <th>...</th>\n",
       "      <td>...</td>\n",
       "      <td>...</td>\n",
       "      <td>...</td>\n",
       "      <td>...</td>\n",
       "      <td>...</td>\n",
       "      <td>...</td>\n",
       "      <td>...</td>\n",
       "      <td>...</td>\n",
       "    </tr>\n",
       "    <tr>\n",
       "      <th>10834</th>\n",
       "      <td>4.0</td>\n",
       "      <td>7</td>\n",
       "      <td>2.6M</td>\n",
       "      <td>500+</td>\n",
       "      <td>Free</td>\n",
       "      <td>0</td>\n",
       "      <td>Everyone</td>\n",
       "      <td>Education</td>\n",
       "    </tr>\n",
       "    <tr>\n",
       "      <th>10836</th>\n",
       "      <td>4.5</td>\n",
       "      <td>38</td>\n",
       "      <td>53M</td>\n",
       "      <td>5,000+</td>\n",
       "      <td>Free</td>\n",
       "      <td>0</td>\n",
       "      <td>Everyone</td>\n",
       "      <td>Education</td>\n",
       "    </tr>\n",
       "    <tr>\n",
       "      <th>10837</th>\n",
       "      <td>5.0</td>\n",
       "      <td>4</td>\n",
       "      <td>3.6M</td>\n",
       "      <td>100+</td>\n",
       "      <td>Free</td>\n",
       "      <td>0</td>\n",
       "      <td>Everyone</td>\n",
       "      <td>Education</td>\n",
       "    </tr>\n",
       "    <tr>\n",
       "      <th>10839</th>\n",
       "      <td>4.5</td>\n",
       "      <td>114</td>\n",
       "      <td>Varies with device</td>\n",
       "      <td>1,000+</td>\n",
       "      <td>Free</td>\n",
       "      <td>0</td>\n",
       "      <td>Mature_17+</td>\n",
       "      <td>Books_&amp;_Reference</td>\n",
       "    </tr>\n",
       "    <tr>\n",
       "      <th>10840</th>\n",
       "      <td>4.5</td>\n",
       "      <td>398307</td>\n",
       "      <td>19M</td>\n",
       "      <td>10,000,000+</td>\n",
       "      <td>Free</td>\n",
       "      <td>0</td>\n",
       "      <td>Everyone</td>\n",
       "      <td>Lifestyle</td>\n",
       "    </tr>\n",
       "  </tbody>\n",
       "</table>\n",
       "<p>9360 rows × 8 columns</p>\n",
       "</div>"
      ],
      "text/plain": [
       "       Rating Reviews                Size     Installs  Type Price  \\\n",
       "0         4.1     159                 19M      10,000+  Free     0   \n",
       "1         3.9     967                 14M     500,000+  Free     0   \n",
       "2         4.7   87510                8.7M   5,000,000+  Free     0   \n",
       "3         4.5  215644                 25M  50,000,000+  Free     0   \n",
       "4         4.3     967                2.8M     100,000+  Free     0   \n",
       "...       ...     ...                 ...          ...   ...   ...   \n",
       "10834     4.0       7                2.6M         500+  Free     0   \n",
       "10836     4.5      38                 53M       5,000+  Free     0   \n",
       "10837     5.0       4                3.6M         100+  Free     0   \n",
       "10839     4.5     114  Varies with device       1,000+  Free     0   \n",
       "10840     4.5  398307                 19M  10,000,000+  Free     0   \n",
       "\n",
       "      Content_Rating                     Genres  \n",
       "0           Everyone               Art_&_Design  \n",
       "1           Everyone  Art_&_Design_Pretend_Play  \n",
       "2           Everyone               Art_&_Design  \n",
       "3               Teen               Art_&_Design  \n",
       "4           Everyone    Art_&_Design_Creativity  \n",
       "...              ...                        ...  \n",
       "10834       Everyone                  Education  \n",
       "10836       Everyone                  Education  \n",
       "10837       Everyone                  Education  \n",
       "10839     Mature_17+          Books_&_Reference  \n",
       "10840       Everyone                  Lifestyle  \n",
       "\n",
       "[9360 rows x 8 columns]"
      ]
     },
     "execution_count": 232,
     "metadata": {},
     "output_type": "execute_result"
    }
   ],
   "source": [
    "data"
   ]
  },
  {
   "cell_type": "code",
   "execution_count": 233,
   "metadata": {},
   "outputs": [
    {
     "data": {
      "text/plain": [
       "Rating            float64\n",
       "Reviews            object\n",
       "Size               object\n",
       "Installs           object\n",
       "Type               object\n",
       "Price              object\n",
       "Content_Rating     object\n",
       "Genres             object\n",
       "dtype: object"
      ]
     },
     "execution_count": 233,
     "metadata": {},
     "output_type": "execute_result"
    }
   ],
   "source": [
    "data.dtypes"
   ]
  },
  {
   "cell_type": "code",
   "execution_count": 234,
   "metadata": {},
   "outputs": [
    {
     "data": {
      "text/plain": [
       "array(['19M', '14M', '8.7M', '25M', '2.8M', '5.6M', '29M', '33M', '3.1M',\n",
       "       '28M', '12M', '20M', '21M', '37M', '5.5M', '17M', '39M', '31M',\n",
       "       '4.2M', '23M', '6.0M', '6.1M', '4.6M', '9.2M', '5.2M', '11M',\n",
       "       '24M', 'Varies with device', '9.4M', '15M', '10M', '1.2M', '26M',\n",
       "       '8.0M', '7.9M', '56M', '57M', '35M', '54M', '201k', '3.6M', '5.7M',\n",
       "       '8.6M', '2.4M', '27M', '2.7M', '2.5M', '7.0M', '16M', '3.4M',\n",
       "       '8.9M', '3.9M', '2.9M', '38M', '32M', '5.4M', '18M', '1.1M',\n",
       "       '2.2M', '4.5M', '9.8M', '52M', '9.0M', '6.7M', '30M', '2.6M',\n",
       "       '7.1M', '22M', '6.4M', '3.2M', '8.2M', '4.9M', '9.5M', '5.0M',\n",
       "       '5.9M', '13M', '73M', '6.8M', '3.5M', '4.0M', '2.3M', '2.1M',\n",
       "       '42M', '9.1M', '55M', '23k', '7.3M', '6.5M', '1.5M', '7.5M', '51M',\n",
       "       '41M', '48M', '8.5M', '46M', '8.3M', '4.3M', '4.7M', '3.3M', '40M',\n",
       "       '7.8M', '8.8M', '6.6M', '5.1M', '61M', '66M', '79k', '8.4M',\n",
       "       '3.7M', '118k', '44M', '695k', '1.6M', '6.2M', '53M', '1.4M',\n",
       "       '3.0M', '7.2M', '5.8M', '3.8M', '9.6M', '45M', '63M', '49M', '77M',\n",
       "       '4.4M', '70M', '9.3M', '8.1M', '36M', '6.9M', '7.4M', '84M', '97M',\n",
       "       '2.0M', '1.9M', '1.8M', '5.3M', '47M', '556k', '526k', '76M',\n",
       "       '7.6M', '59M', '9.7M', '78M', '72M', '43M', '7.7M', '6.3M', '334k',\n",
       "       '93M', '65M', '79M', '100M', '58M', '50M', '68M', '64M', '34M',\n",
       "       '67M', '60M', '94M', '9.9M', '232k', '99M', '624k', '95M', '8.5k',\n",
       "       '41k', '292k', '80M', '1.7M', '10.0M', '74M', '62M', '69M', '75M',\n",
       "       '98M', '85M', '82M', '96M', '87M', '71M', '86M', '91M', '81M',\n",
       "       '92M', '83M', '88M', '704k', '862k', '899k', '378k', '4.8M',\n",
       "       '266k', '375k', '1.3M', '975k', '980k', '4.1M', '89M', '696k',\n",
       "       '544k', '525k', '920k', '779k', '853k', '720k', '713k', '772k',\n",
       "       '318k', '58k', '241k', '196k', '857k', '51k', '953k', '865k',\n",
       "       '251k', '930k', '540k', '313k', '746k', '203k', '26k', '314k',\n",
       "       '239k', '371k', '220k', '730k', '756k', '91k', '293k', '17k',\n",
       "       '74k', '14k', '317k', '78k', '924k', '818k', '81k', '939k', '169k',\n",
       "       '45k', '965k', '90M', '545k', '61k', '283k', '655k', '714k', '93k',\n",
       "       '872k', '121k', '322k', '976k', '206k', '954k', '444k', '717k',\n",
       "       '210k', '609k', '308k', '306k', '175k', '350k', '383k', '454k',\n",
       "       '1.0M', '70k', '812k', '442k', '842k', '417k', '412k', '459k',\n",
       "       '478k', '335k', '782k', '721k', '430k', '429k', '192k', '460k',\n",
       "       '728k', '496k', '816k', '414k', '506k', '887k', '613k', '778k',\n",
       "       '683k', '592k', '186k', '840k', '647k', '373k', '437k', '598k',\n",
       "       '716k', '585k', '982k', '219k', '55k', '323k', '691k', '511k',\n",
       "       '951k', '963k', '25k', '554k', '351k', '27k', '82k', '208k',\n",
       "       '551k', '29k', '103k', '116k', '153k', '209k', '499k', '173k',\n",
       "       '597k', '809k', '122k', '411k', '400k', '801k', '787k', '50k',\n",
       "       '643k', '986k', '516k', '837k', '780k', '20k', '498k', '600k',\n",
       "       '656k', '221k', '228k', '176k', '34k', '259k', '164k', '458k',\n",
       "       '629k', '28k', '288k', '775k', '785k', '636k', '916k', '994k',\n",
       "       '309k', '485k', '914k', '903k', '608k', '500k', '54k', '562k',\n",
       "       '847k', '948k', '811k', '270k', '48k', '523k', '784k', '280k',\n",
       "       '24k', '892k', '154k', '18k', '33k', '860k', '364k', '387k',\n",
       "       '626k', '161k', '879k', '39k', '170k', '141k', '160k', '144k',\n",
       "       '143k', '190k', '376k', '193k', '473k', '246k', '73k', '253k',\n",
       "       '957k', '420k', '72k', '404k', '470k', '226k', '240k', '89k',\n",
       "       '234k', '257k', '861k', '467k', '676k', '552k', '582k', '619k'],\n",
       "      dtype=object)"
      ]
     },
     "execution_count": 234,
     "metadata": {},
     "output_type": "execute_result"
    }
   ],
   "source": [
    "data[\"Size\"].unique()"
   ]
  },
  {
   "cell_type": "code",
   "execution_count": 235,
   "metadata": {},
   "outputs": [],
   "source": [
    "data['Size'] = data['Size'].str.replace('.', '').str.replace('M', '00').str.replace('k', '0')"
   ]
  },
  {
   "cell_type": "code",
   "execution_count": 236,
   "metadata": {},
   "outputs": [
    {
     "data": {
      "text/plain": [
       "0                      1900\n",
       "1                      1400\n",
       "2                      8700\n",
       "3                      2500\n",
       "4                      2800\n",
       "                ...        \n",
       "10834                  2600\n",
       "10836                  5300\n",
       "10837                  3600\n",
       "10839    Varies with device\n",
       "10840                  1900\n",
       "Name: Size, Length: 9360, dtype: object"
      ]
     },
     "execution_count": 236,
     "metadata": {},
     "output_type": "execute_result"
    }
   ],
   "source": [
    "data[\"Size\"]"
   ]
  },
  {
   "cell_type": "code",
   "execution_count": 237,
   "metadata": {},
   "outputs": [],
   "source": [
    "data = data[data[\"Size\"].str.contains(\"Varies with device\") == False]"
   ]
  },
  {
   "cell_type": "code",
   "execution_count": 238,
   "metadata": {},
   "outputs": [
    {
     "data": {
      "text/plain": [
       "0        1900\n",
       "1        1400\n",
       "2        8700\n",
       "3        2500\n",
       "4        2800\n",
       "         ... \n",
       "10833    6190\n",
       "10834    2600\n",
       "10836    5300\n",
       "10837    3600\n",
       "10840    1900\n",
       "Name: Size, Length: 7723, dtype: object"
      ]
     },
     "execution_count": 238,
     "metadata": {},
     "output_type": "execute_result"
    }
   ],
   "source": [
    "data[\"Size\"]"
   ]
  },
  {
   "cell_type": "code",
   "execution_count": 239,
   "metadata": {},
   "outputs": [
    {
     "name": "stderr",
     "output_type": "stream",
     "text": [
      "C:\\Users\\user\\anaconda3\\lib\\site-packages\\pandas\\core\\generic.py:5303: SettingWithCopyWarning: \n",
      "A value is trying to be set on a copy of a slice from a DataFrame.\n",
      "Try using .loc[row_indexer,col_indexer] = value instead\n",
      "\n",
      "See the caveats in the documentation: https://pandas.pydata.org/pandas-docs/stable/user_guide/indexing.html#returning-a-view-versus-a-copy\n",
      "  self[name] = value\n"
     ]
    }
   ],
   "source": [
    "data.Size=data.Size.astype(\"int32\")"
   ]
  },
  {
   "cell_type": "code",
   "execution_count": 240,
   "metadata": {},
   "outputs": [
    {
     "data": {
      "text/plain": [
       "Rating            float64\n",
       "Reviews            object\n",
       "Size                int32\n",
       "Installs           object\n",
       "Type               object\n",
       "Price              object\n",
       "Content_Rating     object\n",
       "Genres             object\n",
       "dtype: object"
      ]
     },
     "execution_count": 240,
     "metadata": {},
     "output_type": "execute_result"
    }
   ],
   "source": [
    "data.dtypes"
   ]
  },
  {
   "cell_type": "code",
   "execution_count": 241,
   "metadata": {},
   "outputs": [
    {
     "data": {
      "text/plain": [
       "array(['159', '967', '87510', ..., '603', '1195', '398307'], dtype=object)"
      ]
     },
     "execution_count": 241,
     "metadata": {},
     "output_type": "execute_result"
    }
   ],
   "source": [
    "data.Reviews.unique()"
   ]
  },
  {
   "cell_type": "code",
   "execution_count": 242,
   "metadata": {},
   "outputs": [
    {
     "data": {
      "text/plain": [
       "array(['Free', 'Paid'], dtype=object)"
      ]
     },
     "execution_count": 242,
     "metadata": {},
     "output_type": "execute_result"
    }
   ],
   "source": [
    "data.Type.unique()"
   ]
  },
  {
   "cell_type": "code",
   "execution_count": 243,
   "metadata": {},
   "outputs": [],
   "source": [
    "data = pd.get_dummies(data, columns=['Type'])"
   ]
  },
  {
   "cell_type": "code",
   "execution_count": 244,
   "metadata": {},
   "outputs": [],
   "source": [
    "data = pd.get_dummies(data, columns=['Content_Rating'])"
   ]
  },
  {
   "cell_type": "code",
   "execution_count": 245,
   "metadata": {},
   "outputs": [],
   "source": [
    "data = pd.get_dummies(data, columns=['Genres'])"
   ]
  },
  {
   "cell_type": "code",
   "execution_count": null,
   "metadata": {},
   "outputs": [],
   "source": []
  },
  {
   "cell_type": "code",
   "execution_count": 246,
   "metadata": {},
   "outputs": [],
   "source": [
    "data['Installs'] = data['Installs'].str.replace(',', '').str.replace('+', '').str.replace('Free', '0').astype(int)"
   ]
  },
  {
   "cell_type": "code",
   "execution_count": 247,
   "metadata": {},
   "outputs": [
    {
     "data": {
      "text/plain": [
       "Rating                                          float64\n",
       "Reviews                                          object\n",
       "Size                                              int32\n",
       "Installs                                          int32\n",
       "Price                                            object\n",
       "                                                 ...   \n",
       "Genres_Video_Players_&_Editors                    uint8\n",
       "Genres_Video_Players_&_Editors_Creativity         uint8\n",
       "Genres_Video_Players_&_Editors_Music_&_Video      uint8\n",
       "Genres_Weather                                    uint8\n",
       "Genres_Word                                       uint8\n",
       "Length: 125, dtype: object"
      ]
     },
     "execution_count": 247,
     "metadata": {},
     "output_type": "execute_result"
    }
   ],
   "source": [
    "data.dtypes"
   ]
  },
  {
   "cell_type": "code",
   "execution_count": 248,
   "metadata": {},
   "outputs": [
    {
     "data": {
      "text/plain": [
       "array(['0', '$4.99', '$6.99', '$7.99', '$3.99', '$5.99', '$2.99', '$1.99',\n",
       "       '$9.99', '$0.99', '$9.00', '$5.49', '$10.00', '$24.99', '$11.99',\n",
       "       '$79.99', '$16.99', '$14.99', '$29.99', '$12.99', '$3.49',\n",
       "       '$10.99', '$7.49', '$1.50', '$19.99', '$15.99', '$33.99', '$39.99',\n",
       "       '$2.49', '$4.49', '$1.70', '$1.49', '$3.88', '$399.99', '$17.99',\n",
       "       '$400.00', '$3.02', '$1.76', '$4.84', '$4.77', '$1.61', '$1.59',\n",
       "       '$6.49', '$1.29', '$299.99', '$379.99', '$37.99', '$18.99',\n",
       "       '$389.99', '$8.49', '$1.75', '$14.00', '$2.00', '$3.08', '$2.59',\n",
       "       '$19.40', '$15.46', '$8.99', '$3.04', '$13.99', '$4.29', '$3.28',\n",
       "       '$4.60', '$1.00', '$2.90', '$1.97', '$2.56', '$1.20'], dtype=object)"
      ]
     },
     "execution_count": 248,
     "metadata": {},
     "output_type": "execute_result"
    }
   ],
   "source": [
    "data.Price.unique()"
   ]
  },
  {
   "cell_type": "code",
   "execution_count": 249,
   "metadata": {},
   "outputs": [],
   "source": [
    "data['Price'] = data['Price'].str.replace('$','')"
   ]
  },
  {
   "cell_type": "code",
   "execution_count": 250,
   "metadata": {},
   "outputs": [
    {
     "data": {
      "text/plain": [
       "array(['0', '4.99', '6.99', '7.99', '3.99', '5.99', '2.99', '1.99',\n",
       "       '9.99', '0.99', '9.00', '5.49', '10.00', '24.99', '11.99', '79.99',\n",
       "       '16.99', '14.99', '29.99', '12.99', '3.49', '10.99', '7.49',\n",
       "       '1.50', '19.99', '15.99', '33.99', '39.99', '2.49', '4.49', '1.70',\n",
       "       '1.49', '3.88', '399.99', '17.99', '400.00', '3.02', '1.76',\n",
       "       '4.84', '4.77', '1.61', '1.59', '6.49', '1.29', '299.99', '379.99',\n",
       "       '37.99', '18.99', '389.99', '8.49', '1.75', '14.00', '2.00',\n",
       "       '3.08', '2.59', '19.40', '15.46', '8.99', '3.04', '13.99', '4.29',\n",
       "       '3.28', '4.60', '1.00', '2.90', '1.97', '2.56', '1.20'],\n",
       "      dtype=object)"
      ]
     },
     "execution_count": 250,
     "metadata": {},
     "output_type": "execute_result"
    }
   ],
   "source": [
    "data.Price.unique()"
   ]
  },
  {
   "cell_type": "code",
   "execution_count": 251,
   "metadata": {},
   "outputs": [],
   "source": [
    "data.Price=data.Price.astype(\"float\")"
   ]
  },
  {
   "cell_type": "code",
   "execution_count": 252,
   "metadata": {},
   "outputs": [
    {
     "data": {
      "text/plain": [
       "Rating                                          float64\n",
       "Reviews                                          object\n",
       "Size                                              int32\n",
       "Installs                                          int32\n",
       "Price                                           float64\n",
       "                                                 ...   \n",
       "Genres_Video_Players_&_Editors                    uint8\n",
       "Genres_Video_Players_&_Editors_Creativity         uint8\n",
       "Genres_Video_Players_&_Editors_Music_&_Video      uint8\n",
       "Genres_Weather                                    uint8\n",
       "Genres_Word                                       uint8\n",
       "Length: 125, dtype: object"
      ]
     },
     "execution_count": 252,
     "metadata": {},
     "output_type": "execute_result"
    }
   ],
   "source": [
    "data.dtypes"
   ]
  },
  {
   "cell_type": "code",
   "execution_count": 253,
   "metadata": {},
   "outputs": [
    {
     "data": {
      "text/plain": [
       "array(['159', '967', '87510', ..., '603', '1195', '398307'], dtype=object)"
      ]
     },
     "execution_count": 253,
     "metadata": {},
     "output_type": "execute_result"
    }
   ],
   "source": [
    "data.Reviews.unique()"
   ]
  },
  {
   "cell_type": "code",
   "execution_count": 254,
   "metadata": {},
   "outputs": [],
   "source": [
    "data.Reviews=data.Reviews.astype(\"int32\")"
   ]
  },
  {
   "cell_type": "code",
   "execution_count": 255,
   "metadata": {},
   "outputs": [
    {
     "data": {
      "text/plain": [
       "Rating                                          float64\n",
       "Reviews                                           int32\n",
       "Size                                              int32\n",
       "Installs                                          int32\n",
       "Price                                           float64\n",
       "                                                 ...   \n",
       "Genres_Video_Players_&_Editors                    uint8\n",
       "Genres_Video_Players_&_Editors_Creativity         uint8\n",
       "Genres_Video_Players_&_Editors_Music_&_Video      uint8\n",
       "Genres_Weather                                    uint8\n",
       "Genres_Word                                       uint8\n",
       "Length: 125, dtype: object"
      ]
     },
     "execution_count": 255,
     "metadata": {},
     "output_type": "execute_result"
    }
   ],
   "source": [
    "data.dtypes"
   ]
  },
  {
   "cell_type": "code",
   "execution_count": 256,
   "metadata": {},
   "outputs": [
    {
     "data": {
      "text/plain": [
       "Rating                                          0\n",
       "Reviews                                         0\n",
       "Size                                            0\n",
       "Installs                                        0\n",
       "Price                                           0\n",
       "                                               ..\n",
       "Genres_Video_Players_&_Editors                  0\n",
       "Genres_Video_Players_&_Editors_Creativity       0\n",
       "Genres_Video_Players_&_Editors_Music_&_Video    0\n",
       "Genres_Weather                                  0\n",
       "Genres_Word                                     0\n",
       "Length: 125, dtype: int64"
      ]
     },
     "execution_count": 256,
     "metadata": {},
     "output_type": "execute_result"
    }
   ],
   "source": [
    "data.isna().sum()"
   ]
  },
  {
   "cell_type": "code",
   "execution_count": 257,
   "metadata": {},
   "outputs": [
    {
     "data": {
      "text/plain": [
       "count    7723.000000\n",
       "mean        4.173935\n",
       "std         0.544638\n",
       "min         1.000000\n",
       "25%         4.000000\n",
       "50%         4.300000\n",
       "75%         4.500000\n",
       "max         5.000000\n",
       "Name: Rating, dtype: float64"
      ]
     },
     "execution_count": 257,
     "metadata": {},
     "output_type": "execute_result"
    }
   ],
   "source": [
    "#Checking the rating\n",
    "data.Rating.describe()"
   ]
  },
  {
   "cell_type": "code",
   "execution_count": 258,
   "metadata": {},
   "outputs": [],
   "source": [
    "#the reviews must lie between 1-5, which is correct."
   ]
  },
  {
   "cell_type": "code",
   "execution_count": 259,
   "metadata": {},
   "outputs": [],
   "source": [
    "#Reviews should not be more than installs as only those who installed can review the app.\n",
    "#Checking if reviews are more than installs. Counting total rows like this."
   ]
  },
  {
   "cell_type": "code",
   "execution_count": 260,
   "metadata": {},
   "outputs": [
    {
     "data": {
      "text/plain": [
       "6"
      ]
     },
     "execution_count": 260,
     "metadata": {},
     "output_type": "execute_result"
    }
   ],
   "source": [
    "len(data[data.Reviews > data.Installs])"
   ]
  },
  {
   "cell_type": "code",
   "execution_count": 261,
   "metadata": {},
   "outputs": [],
   "source": [
    "data= data[data.Reviews <= data.Installs].copy()"
   ]
  },
  {
   "cell_type": "code",
   "execution_count": 262,
   "metadata": {},
   "outputs": [
    {
     "data": {
      "text/plain": [
       "0"
      ]
     },
     "execution_count": 262,
     "metadata": {},
     "output_type": "execute_result"
    }
   ],
   "source": [
    "len(data[data.Reviews > data.Installs])"
   ]
  },
  {
   "cell_type": "code",
   "execution_count": 263,
   "metadata": {},
   "outputs": [
    {
     "data": {
      "image/png": "[encoded data removed]",
      "text/plain": [
       "<Figure size 432x288 with 1 Axes>"
      ]
     },
     "metadata": {
      "needs_background": "light"
     },
     "output_type": "display_data"
    }
   ],
   "source": [
    "#Distributing the ratings\n",
    "data.Rating.plot.hist()\n",
    "#Show plot\n",
    "plt.show()"
   ]
  },
  {
   "cell_type": "code",
   "execution_count": 264,
   "metadata": {},
   "outputs": [
    {
     "data": {
      "image/png": "[encoded data removed]",
      "text/plain": [
       "<Figure size 432x288 with 1 Axes>"
      ]
     },
     "metadata": {
      "needs_background": "light"
     },
     "output_type": "display_data"
    }
   ],
   "source": [
    "data['Size'].plot.hist()\n",
    "#Show plot\n",
    "plt.show()"
   ]
  },
  {
   "cell_type": "code",
   "execution_count": 265,
   "metadata": {},
   "outputs": [
    {
     "data": {
      "image/png": "[encoded data removed]",
      "text/plain": [
       "<Figure size 432x288 with 1 Axes>"
      ]
     },
     "metadata": {
      "needs_background": "light"
     },
     "output_type": "display_data"
    }
   ],
   "source": [
    "#Distributing the ratings\n",
    "data.Reviews.plot.hist()\n",
    "#Show plot\n",
    "plt.show()"
   ]
  },
  {
   "cell_type": "code",
   "execution_count": 266,
   "metadata": {},
   "outputs": [
    {
     "data": {
      "image/png": "[encoded data removed]",
      "text/plain": [
       "<Figure size 432x288 with 1 Axes>"
      ]
     },
     "metadata": {
      "needs_background": "light"
     },
     "output_type": "display_data"
    }
   ],
   "source": [
    "#Distributing the ratings\n",
    "data.Installs.plot.hist()\n",
    "#Show plot\n",
    "plt.show()"
   ]
  },
  {
   "cell_type": "code",
   "execution_count": 267,
   "metadata": {},
   "outputs": [],
   "source": [
    "#A price of $200 for an application on the Play Store is very high and suspicious. Check the records that have very high price: Is 200 a high price?"
   ]
  },
  {
   "cell_type": "code",
   "execution_count": 268,
   "metadata": {},
   "outputs": [
    {
     "data": {
      "text/plain": [
       "15"
      ]
     },
     "execution_count": 268,
     "metadata": {},
     "output_type": "execute_result"
    }
   ],
   "source": [
    "#Checking the records\n",
    "len(data[data.Price > 200])"
   ]
  },
  {
   "cell_type": "code",
   "execution_count": 269,
   "metadata": {},
   "outputs": [
    {
     "data": {
      "text/html": [
       "<div>\n",
       "<style scoped>\n",
       "    .dataframe tbody tr th:only-of-type {\n",
       "        vertical-align: middle;\n",
       "    }\n",
       "\n",
       "    .dataframe tbody tr th {\n",
       "        vertical-align: top;\n",
       "    }\n",
       "\n",
       "    .dataframe thead th {\n",
       "        text-align: right;\n",
       "    }\n",
       "</style>\n",
       "<table border=\"1\" class=\"dataframe\">\n",
       "  <thead>\n",
       "    <tr style=\"text-align: right;\">\n",
       "      <th></th>\n",
       "      <th>Rating</th>\n",
       "      <th>Reviews</th>\n",
       "      <th>Size</th>\n",
       "      <th>Installs</th>\n",
       "      <th>Price</th>\n",
       "      <th>Type_Free</th>\n",
       "      <th>Type_Paid</th>\n",
       "      <th>Content_Rating_Adults_only_18+</th>\n",
       "      <th>Content_Rating_Everyone</th>\n",
       "      <th>Content_Rating_Everyone_10+</th>\n",
       "      <th>...</th>\n",
       "      <th>Genres_Strategy_Education</th>\n",
       "      <th>Genres_Tools</th>\n",
       "      <th>Genres_Travel_&amp;_Local</th>\n",
       "      <th>Genres_Travel_&amp;_Local_Action_&amp;_Adventure</th>\n",
       "      <th>Genres_Trivia</th>\n",
       "      <th>Genres_Video_Players_&amp;_Editors</th>\n",
       "      <th>Genres_Video_Players_&amp;_Editors_Creativity</th>\n",
       "      <th>Genres_Video_Players_&amp;_Editors_Music_&amp;_Video</th>\n",
       "      <th>Genres_Weather</th>\n",
       "      <th>Genres_Word</th>\n",
       "    </tr>\n",
       "  </thead>\n",
       "  <tbody>\n",
       "    <tr>\n",
       "      <th>4197</th>\n",
       "      <td>4.3</td>\n",
       "      <td>6</td>\n",
       "      <td>1500</td>\n",
       "      <td>100</td>\n",
       "      <td>399.99</td>\n",
       "      <td>0</td>\n",
       "      <td>1</td>\n",
       "      <td>0</td>\n",
       "      <td>1</td>\n",
       "      <td>0</td>\n",
       "      <td>...</td>\n",
       "      <td>0</td>\n",
       "      <td>0</td>\n",
       "      <td>0</td>\n",
       "      <td>0</td>\n",
       "      <td>0</td>\n",
       "      <td>0</td>\n",
       "      <td>0</td>\n",
       "      <td>0</td>\n",
       "      <td>0</td>\n",
       "      <td>0</td>\n",
       "    </tr>\n",
       "    <tr>\n",
       "      <th>4362</th>\n",
       "      <td>3.8</td>\n",
       "      <td>718</td>\n",
       "      <td>2600</td>\n",
       "      <td>10000</td>\n",
       "      <td>399.99</td>\n",
       "      <td>0</td>\n",
       "      <td>1</td>\n",
       "      <td>0</td>\n",
       "      <td>1</td>\n",
       "      <td>0</td>\n",
       "      <td>...</td>\n",
       "      <td>0</td>\n",
       "      <td>0</td>\n",
       "      <td>0</td>\n",
       "      <td>0</td>\n",
       "      <td>0</td>\n",
       "      <td>0</td>\n",
       "      <td>0</td>\n",
       "      <td>0</td>\n",
       "      <td>0</td>\n",
       "      <td>0</td>\n",
       "    </tr>\n",
       "    <tr>\n",
       "      <th>4367</th>\n",
       "      <td>3.6</td>\n",
       "      <td>275</td>\n",
       "      <td>7300</td>\n",
       "      <td>10000</td>\n",
       "      <td>400.00</td>\n",
       "      <td>0</td>\n",
       "      <td>1</td>\n",
       "      <td>0</td>\n",
       "      <td>1</td>\n",
       "      <td>0</td>\n",
       "      <td>...</td>\n",
       "      <td>0</td>\n",
       "      <td>0</td>\n",
       "      <td>0</td>\n",
       "      <td>0</td>\n",
       "      <td>0</td>\n",
       "      <td>0</td>\n",
       "      <td>0</td>\n",
       "      <td>0</td>\n",
       "      <td>0</td>\n",
       "      <td>0</td>\n",
       "    </tr>\n",
       "    <tr>\n",
       "      <th>5351</th>\n",
       "      <td>3.8</td>\n",
       "      <td>3547</td>\n",
       "      <td>1800</td>\n",
       "      <td>100000</td>\n",
       "      <td>399.99</td>\n",
       "      <td>0</td>\n",
       "      <td>1</td>\n",
       "      <td>0</td>\n",
       "      <td>1</td>\n",
       "      <td>0</td>\n",
       "      <td>...</td>\n",
       "      <td>0</td>\n",
       "      <td>0</td>\n",
       "      <td>0</td>\n",
       "      <td>0</td>\n",
       "      <td>0</td>\n",
       "      <td>0</td>\n",
       "      <td>0</td>\n",
       "      <td>0</td>\n",
       "      <td>0</td>\n",
       "      <td>0</td>\n",
       "    </tr>\n",
       "    <tr>\n",
       "      <th>5354</th>\n",
       "      <td>4.0</td>\n",
       "      <td>856</td>\n",
       "      <td>8700</td>\n",
       "      <td>10000</td>\n",
       "      <td>399.99</td>\n",
       "      <td>0</td>\n",
       "      <td>1</td>\n",
       "      <td>0</td>\n",
       "      <td>1</td>\n",
       "      <td>0</td>\n",
       "      <td>...</td>\n",
       "      <td>0</td>\n",
       "      <td>0</td>\n",
       "      <td>0</td>\n",
       "      <td>0</td>\n",
       "      <td>0</td>\n",
       "      <td>0</td>\n",
       "      <td>0</td>\n",
       "      <td>0</td>\n",
       "      <td>0</td>\n",
       "      <td>0</td>\n",
       "    </tr>\n",
       "    <tr>\n",
       "      <th>5355</th>\n",
       "      <td>3.8</td>\n",
       "      <td>411</td>\n",
       "      <td>2600</td>\n",
       "      <td>10000</td>\n",
       "      <td>299.99</td>\n",
       "      <td>0</td>\n",
       "      <td>1</td>\n",
       "      <td>0</td>\n",
       "      <td>1</td>\n",
       "      <td>0</td>\n",
       "      <td>...</td>\n",
       "      <td>0</td>\n",
       "      <td>0</td>\n",
       "      <td>0</td>\n",
       "      <td>0</td>\n",
       "      <td>0</td>\n",
       "      <td>0</td>\n",
       "      <td>0</td>\n",
       "      <td>0</td>\n",
       "      <td>0</td>\n",
       "      <td>0</td>\n",
       "    </tr>\n",
       "    <tr>\n",
       "      <th>5356</th>\n",
       "      <td>4.1</td>\n",
       "      <td>1867</td>\n",
       "      <td>4700</td>\n",
       "      <td>50000</td>\n",
       "      <td>399.99</td>\n",
       "      <td>0</td>\n",
       "      <td>1</td>\n",
       "      <td>0</td>\n",
       "      <td>1</td>\n",
       "      <td>0</td>\n",
       "      <td>...</td>\n",
       "      <td>0</td>\n",
       "      <td>0</td>\n",
       "      <td>0</td>\n",
       "      <td>0</td>\n",
       "      <td>0</td>\n",
       "      <td>0</td>\n",
       "      <td>0</td>\n",
       "      <td>0</td>\n",
       "      <td>0</td>\n",
       "      <td>0</td>\n",
       "    </tr>\n",
       "    <tr>\n",
       "      <th>5357</th>\n",
       "      <td>2.9</td>\n",
       "      <td>41</td>\n",
       "      <td>2900</td>\n",
       "      <td>1000</td>\n",
       "      <td>379.99</td>\n",
       "      <td>0</td>\n",
       "      <td>1</td>\n",
       "      <td>0</td>\n",
       "      <td>1</td>\n",
       "      <td>0</td>\n",
       "      <td>...</td>\n",
       "      <td>0</td>\n",
       "      <td>0</td>\n",
       "      <td>0</td>\n",
       "      <td>0</td>\n",
       "      <td>0</td>\n",
       "      <td>0</td>\n",
       "      <td>0</td>\n",
       "      <td>0</td>\n",
       "      <td>0</td>\n",
       "      <td>0</td>\n",
       "    </tr>\n",
       "    <tr>\n",
       "      <th>5358</th>\n",
       "      <td>3.8</td>\n",
       "      <td>93</td>\n",
       "      <td>2200</td>\n",
       "      <td>1000</td>\n",
       "      <td>399.99</td>\n",
       "      <td>0</td>\n",
       "      <td>1</td>\n",
       "      <td>0</td>\n",
       "      <td>1</td>\n",
       "      <td>0</td>\n",
       "      <td>...</td>\n",
       "      <td>0</td>\n",
       "      <td>0</td>\n",
       "      <td>0</td>\n",
       "      <td>0</td>\n",
       "      <td>0</td>\n",
       "      <td>0</td>\n",
       "      <td>0</td>\n",
       "      <td>0</td>\n",
       "      <td>0</td>\n",
       "      <td>0</td>\n",
       "    </tr>\n",
       "    <tr>\n",
       "      <th>5359</th>\n",
       "      <td>3.5</td>\n",
       "      <td>472</td>\n",
       "      <td>9650</td>\n",
       "      <td>5000</td>\n",
       "      <td>399.99</td>\n",
       "      <td>0</td>\n",
       "      <td>1</td>\n",
       "      <td>0</td>\n",
       "      <td>1</td>\n",
       "      <td>0</td>\n",
       "      <td>...</td>\n",
       "      <td>0</td>\n",
       "      <td>0</td>\n",
       "      <td>0</td>\n",
       "      <td>0</td>\n",
       "      <td>0</td>\n",
       "      <td>0</td>\n",
       "      <td>0</td>\n",
       "      <td>0</td>\n",
       "      <td>0</td>\n",
       "      <td>0</td>\n",
       "    </tr>\n",
       "    <tr>\n",
       "      <th>5362</th>\n",
       "      <td>4.4</td>\n",
       "      <td>201</td>\n",
       "      <td>2700</td>\n",
       "      <td>5000</td>\n",
       "      <td>399.99</td>\n",
       "      <td>0</td>\n",
       "      <td>1</td>\n",
       "      <td>0</td>\n",
       "      <td>1</td>\n",
       "      <td>0</td>\n",
       "      <td>...</td>\n",
       "      <td>0</td>\n",
       "      <td>0</td>\n",
       "      <td>0</td>\n",
       "      <td>0</td>\n",
       "      <td>0</td>\n",
       "      <td>0</td>\n",
       "      <td>0</td>\n",
       "      <td>0</td>\n",
       "      <td>0</td>\n",
       "      <td>0</td>\n",
       "    </tr>\n",
       "    <tr>\n",
       "      <th>5364</th>\n",
       "      <td>4.1</td>\n",
       "      <td>129</td>\n",
       "      <td>2700</td>\n",
       "      <td>1000</td>\n",
       "      <td>399.99</td>\n",
       "      <td>0</td>\n",
       "      <td>1</td>\n",
       "      <td>0</td>\n",
       "      <td>0</td>\n",
       "      <td>0</td>\n",
       "      <td>...</td>\n",
       "      <td>0</td>\n",
       "      <td>0</td>\n",
       "      <td>0</td>\n",
       "      <td>0</td>\n",
       "      <td>0</td>\n",
       "      <td>0</td>\n",
       "      <td>0</td>\n",
       "      <td>0</td>\n",
       "      <td>0</td>\n",
       "      <td>0</td>\n",
       "    </tr>\n",
       "    <tr>\n",
       "      <th>5366</th>\n",
       "      <td>3.6</td>\n",
       "      <td>217</td>\n",
       "      <td>4900</td>\n",
       "      <td>10000</td>\n",
       "      <td>389.99</td>\n",
       "      <td>0</td>\n",
       "      <td>1</td>\n",
       "      <td>0</td>\n",
       "      <td>1</td>\n",
       "      <td>0</td>\n",
       "      <td>...</td>\n",
       "      <td>0</td>\n",
       "      <td>0</td>\n",
       "      <td>0</td>\n",
       "      <td>0</td>\n",
       "      <td>0</td>\n",
       "      <td>0</td>\n",
       "      <td>0</td>\n",
       "      <td>0</td>\n",
       "      <td>0</td>\n",
       "      <td>0</td>\n",
       "    </tr>\n",
       "    <tr>\n",
       "      <th>5369</th>\n",
       "      <td>4.3</td>\n",
       "      <td>180</td>\n",
       "      <td>3800</td>\n",
       "      <td>5000</td>\n",
       "      <td>399.99</td>\n",
       "      <td>0</td>\n",
       "      <td>1</td>\n",
       "      <td>0</td>\n",
       "      <td>1</td>\n",
       "      <td>0</td>\n",
       "      <td>...</td>\n",
       "      <td>0</td>\n",
       "      <td>0</td>\n",
       "      <td>0</td>\n",
       "      <td>0</td>\n",
       "      <td>0</td>\n",
       "      <td>0</td>\n",
       "      <td>0</td>\n",
       "      <td>0</td>\n",
       "      <td>0</td>\n",
       "      <td>0</td>\n",
       "    </tr>\n",
       "    <tr>\n",
       "      <th>5373</th>\n",
       "      <td>4.0</td>\n",
       "      <td>36</td>\n",
       "      <td>4100</td>\n",
       "      <td>1000</td>\n",
       "      <td>399.99</td>\n",
       "      <td>0</td>\n",
       "      <td>1</td>\n",
       "      <td>0</td>\n",
       "      <td>1</td>\n",
       "      <td>0</td>\n",
       "      <td>...</td>\n",
       "      <td>0</td>\n",
       "      <td>0</td>\n",
       "      <td>0</td>\n",
       "      <td>0</td>\n",
       "      <td>0</td>\n",
       "      <td>0</td>\n",
       "      <td>0</td>\n",
       "      <td>0</td>\n",
       "      <td>0</td>\n",
       "      <td>0</td>\n",
       "    </tr>\n",
       "  </tbody>\n",
       "</table>\n",
       "<p>15 rows × 125 columns</p>\n",
       "</div>"
      ],
      "text/plain": [
       "      Rating  Reviews  Size  Installs   Price  Type_Free  Type_Paid  \\\n",
       "4197     4.3        6  1500       100  399.99          0          1   \n",
       "4362     3.8      718  2600     10000  399.99          0          1   \n",
       "4367     3.6      275  7300     10000  400.00          0          1   \n",
       "5351     3.8     3547  1800    100000  399.99          0          1   \n",
       "5354     4.0      856  8700     10000  399.99          0          1   \n",
       "5355     3.8      411  2600     10000  299.99          0          1   \n",
       "5356     4.1     1867  4700     50000  399.99          0          1   \n",
       "5357     2.9       41  2900      1000  379.99          0          1   \n",
       "5358     3.8       93  2200      1000  399.99          0          1   \n",
       "5359     3.5      472  9650      5000  399.99          0          1   \n",
       "5362     4.4      201  2700      5000  399.99          0          1   \n",
       "5364     4.1      129  2700      1000  399.99          0          1   \n",
       "5366     3.6      217  4900     10000  389.99          0          1   \n",
       "5369     4.3      180  3800      5000  399.99          0          1   \n",
       "5373     4.0       36  4100      1000  399.99          0          1   \n",
       "\n",
       "      Content_Rating_Adults_only_18+  Content_Rating_Everyone  \\\n",
       "4197                               0                        1   \n",
       "4362                               0                        1   \n",
       "4367                               0                        1   \n",
       "5351                               0                        1   \n",
       "5354                               0                        1   \n",
       "5355                               0                        1   \n",
       "5356                               0                        1   \n",
       "5357                               0                        1   \n",
       "5358                               0                        1   \n",
       "5359                               0                        1   \n",
       "5362                               0                        1   \n",
       "5364                               0                        0   \n",
       "5366                               0                        1   \n",
       "5369                               0                        1   \n",
       "5373                               0                        1   \n",
       "\n",
       "      Content_Rating_Everyone_10+  ...  Genres_Strategy_Education  \\\n",
       "4197                            0  ...                          0   \n",
       "4362                            0  ...                          0   \n",
       "4367                            0  ...                          0   \n",
       "5351                            0  ...                          0   \n",
       "5354                            0  ...                          0   \n",
       "5355                            0  ...                          0   \n",
       "5356                            0  ...                          0   \n",
       "5357                            0  ...                          0   \n",
       "5358                            0  ...                          0   \n",
       "5359                            0  ...                          0   \n",
       "5362                            0  ...                          0   \n",
       "5364                            0  ...                          0   \n",
       "5366                            0  ...                          0   \n",
       "5369                            0  ...                          0   \n",
       "5373                            0  ...                          0   \n",
       "\n",
       "      Genres_Tools  Genres_Travel_&_Local  \\\n",
       "4197             0                      0   \n",
       "4362             0                      0   \n",
       "4367             0                      0   \n",
       "5351             0                      0   \n",
       "5354             0                      0   \n",
       "5355             0                      0   \n",
       "5356             0                      0   \n",
       "5357             0                      0   \n",
       "5358             0                      0   \n",
       "5359             0                      0   \n",
       "5362             0                      0   \n",
       "5364             0                      0   \n",
       "5366             0                      0   \n",
       "5369             0                      0   \n",
       "5373             0                      0   \n",
       "\n",
       "      Genres_Travel_&_Local_Action_&_Adventure  Genres_Trivia  \\\n",
       "4197                                         0              0   \n",
       "4362                                         0              0   \n",
       "4367                                         0              0   \n",
       "5351                                         0              0   \n",
       "5354                                         0              0   \n",
       "5355                                         0              0   \n",
       "5356                                         0              0   \n",
       "5357                                         0              0   \n",
       "5358                                         0              0   \n",
       "5359                                         0              0   \n",
       "5362                                         0              0   \n",
       "5364                                         0              0   \n",
       "5366                                         0              0   \n",
       "5369                                         0              0   \n",
       "5373                                         0              0   \n",
       "\n",
       "      Genres_Video_Players_&_Editors  \\\n",
       "4197                               0   \n",
       "4362                               0   \n",
       "4367                               0   \n",
       "5351                               0   \n",
       "5354                               0   \n",
       "5355                               0   \n",
       "5356                               0   \n",
       "5357                               0   \n",
       "5358                               0   \n",
       "5359                               0   \n",
       "5362                               0   \n",
       "5364                               0   \n",
       "5366                               0   \n",
       "5369                               0   \n",
       "5373                               0   \n",
       "\n",
       "      Genres_Video_Players_&_Editors_Creativity  \\\n",
       "4197                                          0   \n",
       "4362                                          0   \n",
       "4367                                          0   \n",
       "5351                                          0   \n",
       "5354                                          0   \n",
       "5355                                          0   \n",
       "5356                                          0   \n",
       "5357                                          0   \n",
       "5358                                          0   \n",
       "5359                                          0   \n",
       "5362                                          0   \n",
       "5364                                          0   \n",
       "5366                                          0   \n",
       "5369                                          0   \n",
       "5373                                          0   \n",
       "\n",
       "      Genres_Video_Players_&_Editors_Music_&_Video  Genres_Weather  \\\n",
       "4197                                             0               0   \n",
       "4362                                             0               0   \n",
       "4367                                             0               0   \n",
       "5351                                             0               0   \n",
       "5354                                             0               0   \n",
       "5355                                             0               0   \n",
       "5356                                             0               0   \n",
       "5357                                             0               0   \n",
       "5358                                             0               0   \n",
       "5359                                             0               0   \n",
       "5362                                             0               0   \n",
       "5364                                             0               0   \n",
       "5366                                             0               0   \n",
       "5369                                             0               0   \n",
       "5373                                             0               0   \n",
       "\n",
       "      Genres_Word  \n",
       "4197            0  \n",
       "4362            0  \n",
       "4367            0  \n",
       "5351            0  \n",
       "5354            0  \n",
       "5355            0  \n",
       "5356            0  \n",
       "5357            0  \n",
       "5358            0  \n",
       "5359            0  \n",
       "5362            0  \n",
       "5364            0  \n",
       "5366            0  \n",
       "5369            0  \n",
       "5373            0  \n",
       "\n",
       "[15 rows x 125 columns]"
      ]
     },
     "execution_count": 269,
     "metadata": {},
     "output_type": "execute_result"
    }
   ],
   "source": [
    "data[data.Price > 200]"
   ]
  },
  {
   "cell_type": "code",
   "execution_count": 270,
   "metadata": {},
   "outputs": [],
   "source": [
    "data = data[data.Price <= 200].copy()"
   ]
  },
  {
   "cell_type": "code",
   "execution_count": 271,
   "metadata": {},
   "outputs": [
    {
     "data": {
      "text/plain": [
       "10"
      ]
     },
     "execution_count": 271,
     "metadata": {},
     "output_type": "execute_result"
    }
   ],
   "source": [
    "#Dropping the apps with more than 100M installs\n",
    "len(data[data.Installs >= 1000000000])"
   ]
  },
  {
   "cell_type": "code",
   "execution_count": 272,
   "metadata": {},
   "outputs": [],
   "source": [
    "data = data[data.Installs < 1000000000].copy()"
   ]
  },
  {
   "cell_type": "code",
   "execution_count": 273,
   "metadata": {},
   "outputs": [],
   "source": [
    "#Dropping the records with more than 2 million reviews\n",
    "data = data[data.Reviews <= 2000000]\n"
   ]
  },
  {
   "cell_type": "code",
   "execution_count": 274,
   "metadata": {},
   "outputs": [],
   "source": [
    "data.Installs = data.Installs.apply(np.log1p)"
   ]
  },
  {
   "cell_type": "code",
   "execution_count": 275,
   "metadata": {},
   "outputs": [],
   "source": [
    "data.Reviews = data.Reviews.apply(np.log1p)"
   ]
  },
  {
   "cell_type": "code",
   "execution_count": 276,
   "metadata": {},
   "outputs": [
    {
     "data": {
      "image/png": "[encoded data removed]",
      "text/plain": [
       "<Figure size 432x288 with 1 Axes>"
      ]
     },
     "metadata": {
      "needs_background": "light"
     },
     "output_type": "display_data"
    }
   ],
   "source": [
    "#Distributing the ratings\n",
    "data.Reviews.plot.hist()\n",
    "#Show plot\n",
    "plt.show()"
   ]
  },
  {
   "cell_type": "code",
   "execution_count": 277,
   "metadata": {},
   "outputs": [
    {
     "data": {
      "image/png": "[encoded data removed]",
      "text/plain": [
       "<Figure size 432x288 with 1 Axes>"
      ]
     },
     "metadata": {
      "needs_background": "light"
     },
     "output_type": "display_data"
    }
   ],
   "source": [
    "#Distributing the ratings\n",
    "data.Installs.plot.hist()\n",
    "#Show plot\n",
    "plt.show()"
   ]
  },
  {
   "cell_type": "code",
   "execution_count": 278,
   "metadata": {},
   "outputs": [],
   "source": [
    "from sklearn.model_selection import train_test_split"
   ]
  },
  {
   "cell_type": "code",
   "execution_count": 279,
   "metadata": {},
   "outputs": [],
   "source": [
    "df_train, df_test = train_test_split(data, train_size = 0.7, random_state = 100)"
   ]
  },
  {
   "cell_type": "code",
   "execution_count": 280,
   "metadata": {},
   "outputs": [
    {
     "data": {
      "text/plain": [
       "((5235, 125), (2244, 125))"
      ]
     },
     "execution_count": 280,
     "metadata": {},
     "output_type": "execute_result"
    }
   ],
   "source": [
    "df_train.shape, df_test.shape"
   ]
  },
  {
   "cell_type": "code",
   "execution_count": 281,
   "metadata": {},
   "outputs": [],
   "source": [
    "y_train = df_train.pop(\"Rating\")\n",
    "X_train = df_train"
   ]
  },
  {
   "cell_type": "code",
   "execution_count": 210,
   "metadata": {},
   "outputs": [
    {
     "data": {
      "text/html": [
       "<div>\n",
       "<style scoped>\n",
       "    .dataframe tbody tr th:only-of-type {\n",
       "        vertical-align: middle;\n",
       "    }\n",
       "\n",
       "    .dataframe tbody tr th {\n",
       "        vertical-align: top;\n",
       "    }\n",
       "\n",
       "    .dataframe thead th {\n",
       "        text-align: right;\n",
       "    }\n",
       "</style>\n",
       "<table border=\"1\" class=\"dataframe\">\n",
       "  <thead>\n",
       "    <tr style=\"text-align: right;\">\n",
       "      <th></th>\n",
       "      <th>Reviews</th>\n",
       "      <th>Size</th>\n",
       "      <th>Installs</th>\n",
       "      <th>Price</th>\n",
       "      <th>Type_Free</th>\n",
       "      <th>Type_Paid</th>\n",
       "      <th>Content_Rating_Adults_only_18+</th>\n",
       "      <th>Content_Rating_Everyone</th>\n",
       "      <th>Content_Rating_Everyone_10+</th>\n",
       "      <th>Content_Rating_Mature_17+</th>\n",
       "      <th>...</th>\n",
       "      <th>Genres_Strategy_Education</th>\n",
       "      <th>Genres_Tools</th>\n",
       "      <th>Genres_Travel_&amp;_Local</th>\n",
       "      <th>Genres_Travel_&amp;_Local_Action_&amp;_Adventure</th>\n",
       "      <th>Genres_Trivia</th>\n",
       "      <th>Genres_Video_Players_&amp;_Editors</th>\n",
       "      <th>Genres_Video_Players_&amp;_Editors_Creativity</th>\n",
       "      <th>Genres_Video_Players_&amp;_Editors_Music_&amp;_Video</th>\n",
       "      <th>Genres_Weather</th>\n",
       "      <th>Genres_Word</th>\n",
       "    </tr>\n",
       "  </thead>\n",
       "  <tbody>\n",
       "    <tr>\n",
       "      <th>1217</th>\n",
       "      <td>8.780787</td>\n",
       "      <td>1800</td>\n",
       "      <td>13.815512</td>\n",
       "      <td>0.0</td>\n",
       "      <td>1</td>\n",
       "      <td>0</td>\n",
       "      <td>0</td>\n",
       "      <td>1</td>\n",
       "      <td>0</td>\n",
       "      <td>0</td>\n",
       "      <td>...</td>\n",
       "      <td>0</td>\n",
       "      <td>0</td>\n",
       "      <td>0</td>\n",
       "      <td>0</td>\n",
       "      <td>0</td>\n",
       "      <td>0</td>\n",
       "      <td>0</td>\n",
       "      <td>0</td>\n",
       "      <td>0</td>\n",
       "      <td>0</td>\n",
       "    </tr>\n",
       "  </tbody>\n",
       "</table>\n",
       "<p>1 rows × 124 columns</p>\n",
       "</div>"
      ],
      "text/plain": [
       "       Reviews  Size   Installs  Price  Type_Free  Type_Paid  \\\n",
       "1217  8.780787  1800  13.815512    0.0          1          0   \n",
       "\n",
       "      Content_Rating_Adults_only_18+  Content_Rating_Everyone  \\\n",
       "1217                               0                        1   \n",
       "\n",
       "      Content_Rating_Everyone_10+  Content_Rating_Mature_17+  ...  \\\n",
       "1217                            0                          0  ...   \n",
       "\n",
       "      Genres_Strategy_Education  Genres_Tools  Genres_Travel_&_Local  \\\n",
       "1217                          0             0                      0   \n",
       "\n",
       "      Genres_Travel_&_Local_Action_&_Adventure  Genres_Trivia  \\\n",
       "1217                                         0              0   \n",
       "\n",
       "      Genres_Video_Players_&_Editors  \\\n",
       "1217                               0   \n",
       "\n",
       "      Genres_Video_Players_&_Editors_Creativity  \\\n",
       "1217                                          0   \n",
       "\n",
       "      Genres_Video_Players_&_Editors_Music_&_Video  Genres_Weather  \\\n",
       "1217                                             0               0   \n",
       "\n",
       "      Genres_Word  \n",
       "1217            0  \n",
       "\n",
       "[1 rows x 124 columns]"
      ]
     },
     "execution_count": 210,
     "metadata": {},
     "output_type": "execute_result"
    }
   ],
   "source": [
    "X_train.head(1)"
   ]
  },
  {
   "cell_type": "code",
   "execution_count": 211,
   "metadata": {},
   "outputs": [],
   "source": [
    "y_test = df_test.pop(\"Rating\")\n",
    "X_test = df_test"
   ]
  },
  {
   "cell_type": "code",
   "execution_count": 212,
   "metadata": {},
   "outputs": [],
   "source": [
    "#Importing the statsmodel library\n",
    "import statsmodels.api as sm"
   ]
  },
  {
   "cell_type": "code",
   "execution_count": 213,
   "metadata": {},
   "outputs": [],
   "source": [
    "#Applying linear regression\n",
    "model1 = sm.OLS(y_train, X_train)"
   ]
  },
  {
   "cell_type": "code",
   "execution_count": 214,
   "metadata": {},
   "outputs": [],
   "source": [
    "model1 = model1.fit()"
   ]
  },
  {
   "cell_type": "code",
   "execution_count": 215,
   "metadata": {},
   "outputs": [
    {
     "name": "stderr",
     "output_type": "stream",
     "text": [
      "C:\\Users\\user\\anaconda3\\lib\\site-packages\\statsmodels\\base\\model.py:1362: RuntimeWarning: invalid value encountered in true_divide\n",
      "  return self.params / self.bse\n"
     ]
    },
    {
     "data": {
      "text/html": [
       "<table class=\"simpletable\">\n",
       "<caption>OLS Regression Results</caption>\n",
       "<tr>\n",
       "  <th>Dep. Variable:</th>         <td>Rating</td>      <th>  R-squared:         </th> <td>   0.150</td> \n",
       "</tr>\n",
       "<tr>\n",
       "  <th>Model:</th>                   <td>OLS</td>       <th>  Adj. R-squared:    </th> <td>   0.132</td> \n",
       "</tr>\n",
       "<tr>\n",
       "  <th>Method:</th>             <td>Least Squares</td>  <th>  F-statistic:       </th> <td>   8.148</td> \n",
       "</tr>\n",
       "<tr>\n",
       "  <th>Date:</th>             <td>Thu, 12 Jan 2023</td> <th>  Prob (F-statistic):</th> <td>1.21e-112</td>\n",
       "</tr>\n",
       "<tr>\n",
       "  <th>Time:</th>                 <td>14:14:08</td>     <th>  Log-Likelihood:    </th> <td> -3910.4</td> \n",
       "</tr>\n",
       "<tr>\n",
       "  <th>No. Observations:</th>      <td>  5235</td>      <th>  AIC:               </th> <td>   8045.</td> \n",
       "</tr>\n",
       "<tr>\n",
       "  <th>Df Residuals:</th>          <td>  5123</td>      <th>  BIC:               </th> <td>   8780.</td> \n",
       "</tr>\n",
       "<tr>\n",
       "  <th>Df Model:</th>              <td>   111</td>      <th>                     </th>     <td> </td>    \n",
       "</tr>\n",
       "<tr>\n",
       "  <th>Covariance Type:</th>      <td>nonrobust</td>    <th>                     </th>     <td> </td>    \n",
       "</tr>\n",
       "</table>\n",
       "<table class=\"simpletable\">\n",
       "<tr>\n",
       "                        <td></td>                          <th>coef</th>     <th>std err</th>      <th>t</th>      <th>P>|t|</th>  <th>[0.025</th>    <th>0.975]</th>  \n",
       "</tr>\n",
       "<tr>\n",
       "  <th>Reviews</th>                                      <td>    0.1749</td> <td>    0.007</td> <td>   24.345</td> <td> 0.000</td> <td>    0.161</td> <td>    0.189</td>\n",
       "</tr>\n",
       "<tr>\n",
       "  <th>Size</th>                                         <td>-2.058e-06</td> <td>    3e-06</td> <td>   -0.687</td> <td> 0.492</td> <td>-7.93e-06</td> <td> 3.82e-06</td>\n",
       "</tr>\n",
       "<tr>\n",
       "  <th>Installs</th>                                     <td>   -0.1533</td> <td>    0.007</td> <td>  -21.417</td> <td> 0.000</td> <td>   -0.167</td> <td>   -0.139</td>\n",
       "</tr>\n",
       "<tr>\n",
       "  <th>Price</th>                                        <td>    0.0021</td> <td>    0.004</td> <td>    0.507</td> <td> 0.612</td> <td>   -0.006</td> <td>    0.010</td>\n",
       "</tr>\n",
       "<tr>\n",
       "  <th>Type_Free</th>                                    <td>    3.5032</td> <td>    0.098</td> <td>   35.770</td> <td> 0.000</td> <td>    3.311</td> <td>    3.695</td>\n",
       "</tr>\n",
       "<tr>\n",
       "  <th>Type_Paid</th>                                    <td>    3.4184</td> <td>    0.099</td> <td>   34.523</td> <td> 0.000</td> <td>    3.224</td> <td>    3.613</td>\n",
       "</tr>\n",
       "<tr>\n",
       "  <th>Content_Rating_Adults_only_18+</th>               <td>    1.2830</td> <td>    0.458</td> <td>    2.804</td> <td> 0.005</td> <td>    0.386</td> <td>    2.180</td>\n",
       "</tr>\n",
       "<tr>\n",
       "  <th>Content_Rating_Everyone</th>                      <td>    1.1253</td> <td>    0.093</td> <td>   12.075</td> <td> 0.000</td> <td>    0.943</td> <td>    1.308</td>\n",
       "</tr>\n",
       "<tr>\n",
       "  <th>Content_Rating_Everyone_10+</th>                  <td>    1.0960</td> <td>    0.099</td> <td>   11.018</td> <td> 0.000</td> <td>    0.901</td> <td>    1.291</td>\n",
       "</tr>\n",
       "<tr>\n",
       "  <th>Content_Rating_Mature_17+</th>                    <td>    1.1323</td> <td>    0.100</td> <td>   11.310</td> <td> 0.000</td> <td>    0.936</td> <td>    1.329</td>\n",
       "</tr>\n",
       "<tr>\n",
       "  <th>Content_Rating_Teen</th>                          <td>    1.1459</td> <td>    0.095</td> <td>   12.034</td> <td> 0.000</td> <td>    0.959</td> <td>    1.333</td>\n",
       "</tr>\n",
       "<tr>\n",
       "  <th>Content_Rating_Unrated</th>                       <td>    1.1393</td> <td>    0.457</td> <td>    2.494</td> <td> 0.013</td> <td>    0.244</td> <td>    2.035</td>\n",
       "</tr>\n",
       "<tr>\n",
       "  <th>Genres_Action</th>                                <td>   -0.0641</td> <td>    0.047</td> <td>   -1.350</td> <td> 0.177</td> <td>   -0.157</td> <td>    0.029</td>\n",
       "</tr>\n",
       "<tr>\n",
       "  <th>Genres_Action_Action_&_Adventure</th>             <td>    0.1030</td> <td>    0.164</td> <td>    0.627</td> <td> 0.531</td> <td>   -0.219</td> <td>    0.425</td>\n",
       "</tr>\n",
       "<tr>\n",
       "  <th>Genres_Adventure</th>                             <td>   -0.0949</td> <td>    0.078</td> <td>   -1.218</td> <td> 0.223</td> <td>   -0.248</td> <td>    0.058</td>\n",
       "</tr>\n",
       "<tr>\n",
       "  <th>Genres_Adventure_Action_&_Adventure</th>          <td>    0.0264</td> <td>    0.363</td> <td>    0.073</td> <td> 0.942</td> <td>   -0.686</td> <td>    0.738</td>\n",
       "</tr>\n",
       "<tr>\n",
       "  <th>Genres_Adventure_Brain_Games</th>                 <td>    0.2790</td> <td>    0.513</td> <td>    0.544</td> <td> 0.586</td> <td>   -0.726</td> <td>    1.284</td>\n",
       "</tr>\n",
       "<tr>\n",
       "  <th>Genres_Adventure_Education</th>                   <td>-1.577e-12</td> <td> 8.49e-12</td> <td>   -0.186</td> <td> 0.853</td> <td>-1.82e-11</td> <td> 1.51e-11</td>\n",
       "</tr>\n",
       "<tr>\n",
       "  <th>Genres_Arcade</th>                                <td>    0.0261</td> <td>    0.055</td> <td>    0.472</td> <td> 0.637</td> <td>   -0.082</td> <td>    0.135</td>\n",
       "</tr>\n",
       "<tr>\n",
       "  <th>Genres_Arcade_Action_&_Adventure</th>             <td>    0.0875</td> <td>    0.164</td> <td>    0.534</td> <td> 0.593</td> <td>   -0.234</td> <td>    0.409</td>\n",
       "</tr>\n",
       "<tr>\n",
       "  <th>Genres_Arcade_Pretend_Play</th>                   <td>-3.338e-12</td> <td> 5.99e-12</td> <td>   -0.557</td> <td> 0.578</td> <td>-1.51e-11</td> <td> 8.41e-12</td>\n",
       "</tr>\n",
       "<tr>\n",
       "  <th>Genres_Art_&_Design</th>                          <td>    0.3202</td> <td>    0.086</td> <td>    3.719</td> <td> 0.000</td> <td>    0.151</td> <td>    0.489</td>\n",
       "</tr>\n",
       "<tr>\n",
       "  <th>Genres_Art_&_Design_Creativity</th>               <td>    0.3094</td> <td>    0.210</td> <td>    1.470</td> <td> 0.142</td> <td>   -0.103</td> <td>    0.722</td>\n",
       "</tr>\n",
       "<tr>\n",
       "  <th>Genres_Art_&_Design_Pretend_Play</th>             <td>-3.552e-12</td> <td> 5.63e-12</td> <td>   -0.631</td> <td> 0.528</td> <td>-1.46e-11</td> <td> 7.49e-12</td>\n",
       "</tr>\n",
       "<tr>\n",
       "  <th>Genres_Auto_&_Vehicles</th>                       <td>    0.1525</td> <td>    0.085</td> <td>    1.790</td> <td> 0.073</td> <td>   -0.014</td> <td>    0.320</td>\n",
       "</tr>\n",
       "<tr>\n",
       "  <th>Genres_Beauty</th>                                <td>    0.2346</td> <td>    0.104</td> <td>    2.256</td> <td> 0.024</td> <td>    0.031</td> <td>    0.438</td>\n",
       "</tr>\n",
       "<tr>\n",
       "  <th>Genres_Board</th>                                 <td>    0.0002</td> <td>    0.100</td> <td>    0.002</td> <td> 0.998</td> <td>   -0.196</td> <td>    0.197</td>\n",
       "</tr>\n",
       "<tr>\n",
       "  <th>Genres_Board_Action_&_Adventure</th>              <td>    0.0708</td> <td>    0.512</td> <td>    0.138</td> <td> 0.890</td> <td>   -0.933</td> <td>    1.075</td>\n",
       "</tr>\n",
       "<tr>\n",
       "  <th>Genres_Board_Brain_Games</th>                     <td>    0.1246</td> <td>    0.157</td> <td>    0.794</td> <td> 0.427</td> <td>   -0.183</td> <td>    0.432</td>\n",
       "</tr>\n",
       "<tr>\n",
       "  <th>Genres_Board_Pretend_Play</th>                    <td> 7.728e-13</td> <td> 1.92e-12</td> <td>    0.402</td> <td> 0.688</td> <td>   -3e-12</td> <td> 4.54e-12</td>\n",
       "</tr>\n",
       "<tr>\n",
       "  <th>Genres_Books_&_Reference</th>                     <td>    0.1551</td> <td>    0.057</td> <td>    2.725</td> <td> 0.006</td> <td>    0.044</td> <td>    0.267</td>\n",
       "</tr>\n",
       "<tr>\n",
       "  <th>Genres_Books_&_Reference_Education</th>           <td>    0.5015</td> <td>    0.513</td> <td>    0.978</td> <td> 0.328</td> <td>   -0.503</td> <td>    1.506</td>\n",
       "</tr>\n",
       "<tr>\n",
       "  <th>Genres_Business</th>                              <td>    0.0618</td> <td>    0.048</td> <td>    1.293</td> <td> 0.196</td> <td>   -0.032</td> <td>    0.155</td>\n",
       "</tr>\n",
       "<tr>\n",
       "  <th>Genres_Card</th>                                  <td>   -0.1594</td> <td>    0.110</td> <td>   -1.448</td> <td> 0.148</td> <td>   -0.375</td> <td>    0.056</td>\n",
       "</tr>\n",
       "<tr>\n",
       "  <th>Genres_Card_Action_&_Adventure</th>               <td>   -0.1914</td> <td>    0.365</td> <td>   -0.524</td> <td> 0.600</td> <td>   -0.907</td> <td>    0.524</td>\n",
       "</tr>\n",
       "<tr>\n",
       "  <th>Genres_Card_Brain_Games</th>                      <td>-5.623e-12</td> <td> 6.96e-12</td> <td>   -0.808</td> <td> 0.419</td> <td>-1.93e-11</td> <td> 8.01e-12</td>\n",
       "</tr>\n",
       "<tr>\n",
       "  <th>Genres_Casino</th>                                <td>    0.0209</td> <td>    0.112</td> <td>    0.186</td> <td> 0.852</td> <td>   -0.199</td> <td>    0.240</td>\n",
       "</tr>\n",
       "<tr>\n",
       "  <th>Genres_Casual</th>                                <td>   -0.1187</td> <td>    0.061</td> <td>   -1.931</td> <td> 0.053</td> <td>   -0.239</td> <td>    0.002</td>\n",
       "</tr>\n",
       "<tr>\n",
       "  <th>Genres_Casual_Action_&_Adventure</th>             <td>   -0.0943</td> <td>    0.157</td> <td>   -0.602</td> <td> 0.547</td> <td>   -0.401</td> <td>    0.213</td>\n",
       "</tr>\n",
       "<tr>\n",
       "  <th>Genres_Casual_Brain_Games</th>                    <td>    0.4098</td> <td>    0.183</td> <td>    2.241</td> <td> 0.025</td> <td>    0.051</td> <td>    0.768</td>\n",
       "</tr>\n",
       "<tr>\n",
       "  <th>Genres_Casual_Creativity</th>                     <td>    0.0188</td> <td>    0.296</td> <td>    0.063</td> <td> 0.949</td> <td>   -0.562</td> <td>    0.600</td>\n",
       "</tr>\n",
       "<tr>\n",
       "  <th>Genres_Casual_Education</th>                      <td>    0.0333</td> <td>    0.363</td> <td>    0.092</td> <td> 0.927</td> <td>   -0.678</td> <td>    0.744</td>\n",
       "</tr>\n",
       "<tr>\n",
       "  <th>Genres_Casual_Music_&_Video</th>                  <td>    0.1012</td> <td>    0.363</td> <td>    0.279</td> <td> 0.780</td> <td>   -0.610</td> <td>    0.812</td>\n",
       "</tr>\n",
       "<tr>\n",
       "  <th>Genres_Casual_Pretend_Play</th>                   <td>   -0.0862</td> <td>    0.112</td> <td>   -0.767</td> <td> 0.443</td> <td>   -0.306</td> <td>    0.134</td>\n",
       "</tr>\n",
       "<tr>\n",
       "  <th>Genres_Comics</th>                                <td>   -0.1447</td> <td>    0.099</td> <td>   -1.457</td> <td> 0.145</td> <td>   -0.339</td> <td>    0.050</td>\n",
       "</tr>\n",
       "<tr>\n",
       "  <th>Genres_Comics_Creativity</th>                     <td>    0.7394</td> <td>    0.512</td> <td>    1.444</td> <td> 0.149</td> <td>   -0.264</td> <td>    1.743</td>\n",
       "</tr>\n",
       "<tr>\n",
       "  <th>Genres_Communication</th>                         <td>   -0.0339</td> <td>    0.052</td> <td>   -0.647</td> <td> 0.517</td> <td>   -0.137</td> <td>    0.069</td>\n",
       "</tr>\n",
       "<tr>\n",
       "  <th>Genres_Dating</th>                                <td>   -0.2260</td> <td>    0.066</td> <td>   -3.442</td> <td> 0.001</td> <td>   -0.355</td> <td>   -0.097</td>\n",
       "</tr>\n",
       "<tr>\n",
       "  <th>Genres_Education</th>                             <td>    0.1761</td> <td>    0.041</td> <td>    4.340</td> <td> 0.000</td> <td>    0.097</td> <td>    0.256</td>\n",
       "</tr>\n",
       "<tr>\n",
       "  <th>Genres_Education_Action_&_Adventure</th>          <td>    0.3122</td> <td>    0.257</td> <td>    1.213</td> <td> 0.225</td> <td>   -0.192</td> <td>    0.817</td>\n",
       "</tr>\n",
       "<tr>\n",
       "  <th>Genres_Education_Brain_Games</th>                 <td>-2.243e-12</td> <td> 2.77e-12</td> <td>   -0.810</td> <td> 0.418</td> <td>-7.67e-12</td> <td> 3.18e-12</td>\n",
       "</tr>\n",
       "<tr>\n",
       "  <th>Genres_Education_Creativity</th>                  <td>    0.5146</td> <td>    0.257</td> <td>    1.999</td> <td> 0.046</td> <td>    0.010</td> <td>    1.019</td>\n",
       "</tr>\n",
       "<tr>\n",
       "  <th>Genres_Education_Education</th>                   <td>    0.2025</td> <td>    0.099</td> <td>    2.054</td> <td> 0.040</td> <td>    0.009</td> <td>    0.396</td>\n",
       "</tr>\n",
       "<tr>\n",
       "  <th>Genres_Education_Music_&_Video</th>               <td>    0.0224</td> <td>    0.363</td> <td>    0.062</td> <td> 0.951</td> <td>   -0.688</td> <td>    0.733</td>\n",
       "</tr>\n",
       "<tr>\n",
       "  <th>Genres_Education_Pretend_Play</th>                <td>    0.2509</td> <td>    0.121</td> <td>    2.068</td> <td> 0.039</td> <td>    0.013</td> <td>    0.489</td>\n",
       "</tr>\n",
       "<tr>\n",
       "  <th>Genres_Educational</th>                           <td>   -0.2779</td> <td>    0.110</td> <td>   -2.517</td> <td> 0.012</td> <td>   -0.494</td> <td>   -0.061</td>\n",
       "</tr>\n",
       "<tr>\n",
       "  <th>Genres_Educational_Action_&_Adventure</th>        <td>    0.1235</td> <td>    0.296</td> <td>    0.417</td> <td> 0.677</td> <td>   -0.458</td> <td>    0.705</td>\n",
       "</tr>\n",
       "<tr>\n",
       "  <th>Genres_Educational_Brain_Games</th>               <td>    0.1295</td> <td>    0.230</td> <td>    0.562</td> <td> 0.574</td> <td>   -0.322</td> <td>    0.581</td>\n",
       "</tr>\n",
       "<tr>\n",
       "  <th>Genres_Educational_Creativity</th>                <td>   -0.0557</td> <td>    0.231</td> <td>   -0.242</td> <td> 0.809</td> <td>   -0.508</td> <td>    0.396</td>\n",
       "</tr>\n",
       "<tr>\n",
       "  <th>Genres_Educational_Education</th>                 <td>    0.2304</td> <td>    0.110</td> <td>    2.096</td> <td> 0.036</td> <td>    0.015</td> <td>    0.446</td>\n",
       "</tr>\n",
       "<tr>\n",
       "  <th>Genres_Educational_Pretend_Play</th>              <td>    0.0735</td> <td>    0.139</td> <td>    0.527</td> <td> 0.598</td> <td>   -0.200</td> <td>    0.347</td>\n",
       "</tr>\n",
       "<tr>\n",
       "  <th>Genres_Entertainment</th>                         <td>   -0.0563</td> <td>    0.039</td> <td>   -1.428</td> <td> 0.153</td> <td>   -0.134</td> <td>    0.021</td>\n",
       "</tr>\n",
       "<tr>\n",
       "  <th>Genres_Entertainment_Action_&_Adventure</th>      <td>    0.3739</td> <td>    0.512</td> <td>    0.730</td> <td> 0.465</td> <td>   -0.630</td> <td>    1.378</td>\n",
       "</tr>\n",
       "<tr>\n",
       "  <th>Genres_Entertainment_Brain_Games</th>             <td>    0.0542</td> <td>    0.257</td> <td>    0.211</td> <td> 0.833</td> <td>   -0.450</td> <td>    0.558</td>\n",
       "</tr>\n",
       "<tr>\n",
       "  <th>Genres_Entertainment_Creativity</th>              <td>    0.3916</td> <td>    0.363</td> <td>    1.080</td> <td> 0.280</td> <td>   -0.319</td> <td>    1.102</td>\n",
       "</tr>\n",
       "<tr>\n",
       "  <th>Genres_Entertainment_Education</th>               <td>    0.3346</td> <td>    0.512</td> <td>    0.653</td> <td> 0.514</td> <td>   -0.669</td> <td>    1.338</td>\n",
       "</tr>\n",
       "<tr>\n",
       "  <th>Genres_Entertainment_Music_&_Video</th>           <td>   -0.0066</td> <td>    0.158</td> <td>   -0.042</td> <td> 0.967</td> <td>   -0.316</td> <td>    0.303</td>\n",
       "</tr>\n",
       "<tr>\n",
       "  <th>Genres_Entertainment_Pretend_Play</th>            <td>   -0.2879</td> <td>    0.363</td> <td>   -0.794</td> <td> 0.427</td> <td>   -0.999</td> <td>    0.423</td>\n",
       "</tr>\n",
       "<tr>\n",
       "  <th>Genres_Events</th>                                <td>    0.3603</td> <td>    0.099</td> <td>    3.646</td> <td> 0.000</td> <td>    0.167</td> <td>    0.554</td>\n",
       "</tr>\n",
       "<tr>\n",
       "  <th>Genres_Finance</th>                               <td>   -0.0878</td> <td>    0.047</td> <td>   -1.888</td> <td> 0.059</td> <td>   -0.179</td> <td>    0.003</td>\n",
       "</tr>\n",
       "<tr>\n",
       "  <th>Genres_Food_&_Drink</th>                          <td>   -0.0311</td> <td>    0.073</td> <td>   -0.424</td> <td> 0.672</td> <td>   -0.175</td> <td>    0.113</td>\n",
       "</tr>\n",
       "<tr>\n",
       "  <th>Genres_Health_&_Fitness</th>                      <td>    0.0077</td> <td>    0.048</td> <td>    0.159</td> <td> 0.874</td> <td>   -0.087</td> <td>    0.102</td>\n",
       "</tr>\n",
       "<tr>\n",
       "  <th>Genres_Health_&_Fitness_Action_&_Adventure</th>   <td>   -0.4032</td> <td>    0.512</td> <td>   -0.787</td> <td> 0.431</td> <td>   -1.407</td> <td>    0.601</td>\n",
       "</tr>\n",
       "<tr>\n",
       "  <th>Genres_Health_&_Fitness_Education</th>            <td>    0.2389</td> <td>    0.512</td> <td>    0.466</td> <td> 0.641</td> <td>   -0.765</td> <td>    1.243</td>\n",
       "</tr>\n",
       "<tr>\n",
       "  <th>Genres_House_&_Home</th>                          <td>    0.0187</td> <td>    0.086</td> <td>    0.217</td> <td> 0.828</td> <td>   -0.150</td> <td>    0.188</td>\n",
       "</tr>\n",
       "<tr>\n",
       "  <th>Genres_Libraries_&_Demo</th>                      <td>    0.1843</td> <td>    0.080</td> <td>    2.300</td> <td> 0.022</td> <td>    0.027</td> <td>    0.341</td>\n",
       "</tr>\n",
       "<tr>\n",
       "  <th>Genres_Lifestyle</th>                             <td>   -0.0619</td> <td>    0.044</td> <td>   -1.392</td> <td> 0.164</td> <td>   -0.149</td> <td>    0.025</td>\n",
       "</tr>\n",
       "<tr>\n",
       "  <th>Genres_Lifestyle_Pretend_Play</th>                <td>   -0.2114</td> <td>    0.512</td> <td>   -0.413</td> <td> 0.680</td> <td>   -1.216</td> <td>    0.793</td>\n",
       "</tr>\n",
       "<tr>\n",
       "  <th>Genres_Maps_&_Navigation</th>                     <td>   -0.1372</td> <td>    0.072</td> <td>   -1.901</td> <td> 0.057</td> <td>   -0.279</td> <td>    0.004</td>\n",
       "</tr>\n",
       "<tr>\n",
       "  <th>Genres_Medical</th>                               <td>    0.0536</td> <td>    0.044</td> <td>    1.217</td> <td> 0.224</td> <td>   -0.033</td> <td>    0.140</td>\n",
       "</tr>\n",
       "<tr>\n",
       "  <th>Genres_Music</th>                                 <td>   -0.2140</td> <td>    0.157</td> <td>   -1.366</td> <td> 0.172</td> <td>   -0.521</td> <td>    0.093</td>\n",
       "</tr>\n",
       "<tr>\n",
       "  <th>Genres_Music_&_Audio_Music_&_Video</th>           <td>    0.4396</td> <td>    0.512</td> <td>    0.858</td> <td> 0.391</td> <td>   -0.565</td> <td>    1.444</td>\n",
       "</tr>\n",
       "<tr>\n",
       "  <th>Genres_Music_Music_&_Video</th>                   <td>    0.2766</td> <td>    0.362</td> <td>    0.763</td> <td> 0.445</td> <td>   -0.434</td> <td>    0.987</td>\n",
       "</tr>\n",
       "<tr>\n",
       "  <th>Genres_News_&_Magazines</th>                      <td>    0.0222</td> <td>    0.054</td> <td>    0.408</td> <td> 0.684</td> <td>   -0.085</td> <td>    0.129</td>\n",
       "</tr>\n",
       "<tr>\n",
       "  <th>Genres_Parenting</th>                             <td>    0.3071</td> <td>    0.102</td> <td>    3.011</td> <td> 0.003</td> <td>    0.107</td> <td>    0.507</td>\n",
       "</tr>\n",
       "<tr>\n",
       "  <th>Genres_Parenting_Brain_Games</th>                 <td>   -0.1373</td> <td>    0.512</td> <td>   -0.268</td> <td> 0.789</td> <td>   -1.141</td> <td>    0.867</td>\n",
       "</tr>\n",
       "<tr>\n",
       "  <th>Genres_Parenting_Education</th>                   <td>   -0.0834</td> <td>    0.297</td> <td>   -0.281</td> <td> 0.778</td> <td>   -0.665</td> <td>    0.498</td>\n",
       "</tr>\n",
       "<tr>\n",
       "  <th>Genres_Parenting_Music_&_Video</th>               <td>    0.6796</td> <td>    0.297</td> <td>    2.292</td> <td> 0.022</td> <td>    0.098</td> <td>    1.261</td>\n",
       "</tr>\n",
       "<tr>\n",
       "  <th>Genres_Personalization</th>                       <td>    0.1407</td> <td>    0.045</td> <td>    3.100</td> <td> 0.002</td> <td>    0.052</td> <td>    0.230</td>\n",
       "</tr>\n",
       "<tr>\n",
       "  <th>Genres_Photography</th>                           <td>   -0.0429</td> <td>    0.047</td> <td>   -0.906</td> <td> 0.365</td> <td>   -0.136</td> <td>    0.050</td>\n",
       "</tr>\n",
       "<tr>\n",
       "  <th>Genres_Productivity</th>                          <td>   -0.0546</td> <td>    0.048</td> <td>   -1.138</td> <td> 0.255</td> <td>   -0.149</td> <td>    0.039</td>\n",
       "</tr>\n",
       "<tr>\n",
       "  <th>Genres_Puzzle</th>                                <td>    0.1055</td> <td>    0.070</td> <td>    1.505</td> <td> 0.132</td> <td>   -0.032</td> <td>    0.243</td>\n",
       "</tr>\n",
       "<tr>\n",
       "  <th>Genres_Puzzle_Action_&_Adventure</th>             <td>    0.0432</td> <td>    0.257</td> <td>    0.168</td> <td> 0.866</td> <td>   -0.461</td> <td>    0.547</td>\n",
       "</tr>\n",
       "<tr>\n",
       "  <th>Genres_Puzzle_Brain_Games</th>                    <td>    0.1492</td> <td>    0.131</td> <td>    1.143</td> <td> 0.253</td> <td>   -0.107</td> <td>    0.405</td>\n",
       "</tr>\n",
       "<tr>\n",
       "  <th>Genres_Puzzle_Creativity</th>                     <td>    0.2680</td> <td>    0.512</td> <td>    0.523</td> <td> 0.601</td> <td>   -0.736</td> <td>    1.272</td>\n",
       "</tr>\n",
       "<tr>\n",
       "  <th>Genres_Puzzle_Education</th>                      <td>    0.5639</td> <td>    0.512</td> <td>    1.101</td> <td> 0.271</td> <td>   -0.440</td> <td>    1.568</td>\n",
       "</tr>\n",
       "<tr>\n",
       "  <th>Genres_Racing</th>                                <td>   -0.1196</td> <td>    0.076</td> <td>   -1.577</td> <td> 0.115</td> <td>   -0.268</td> <td>    0.029</td>\n",
       "</tr>\n",
       "<tr>\n",
       "  <th>Genres_Racing_Action_&_Adventure</th>             <td>    0.1499</td> <td>    0.173</td> <td>    0.869</td> <td> 0.385</td> <td>   -0.188</td> <td>    0.488</td>\n",
       "</tr>\n",
       "<tr>\n",
       "  <th>Genres_Racing_Pretend_Play</th>                   <td>  3.55e-13</td> <td> 5.99e-13</td> <td>    0.593</td> <td> 0.553</td> <td>-8.19e-13</td> <td> 1.53e-12</td>\n",
       "</tr>\n",
       "<tr>\n",
       "  <th>Genres_Role_Playing</th>                          <td>   -0.0849</td> <td>    0.071</td> <td>   -1.196</td> <td> 0.232</td> <td>   -0.224</td> <td>    0.054</td>\n",
       "</tr>\n",
       "<tr>\n",
       "  <th>Genres_Role_Playing_Action_&_Adventure</th>       <td>   -0.0268</td> <td>    0.257</td> <td>   -0.104</td> <td> 0.917</td> <td>   -0.531</td> <td>    0.478</td>\n",
       "</tr>\n",
       "<tr>\n",
       "  <th>Genres_Role_Playing_Brain_Games</th>              <td>    0.0667</td> <td>    0.512</td> <td>    0.130</td> <td> 0.896</td> <td>   -0.937</td> <td>    1.070</td>\n",
       "</tr>\n",
       "<tr>\n",
       "  <th>Genres_Role_Playing_Pretend_Play</th>             <td>   -0.0757</td> <td>    0.257</td> <td>   -0.294</td> <td> 0.769</td> <td>   -0.580</td> <td>    0.428</td>\n",
       "</tr>\n",
       "<tr>\n",
       "  <th>Genres_Shopping</th>                              <td>    0.0354</td> <td>    0.054</td> <td>    0.651</td> <td> 0.515</td> <td>   -0.071</td> <td>    0.142</td>\n",
       "</tr>\n",
       "<tr>\n",
       "  <th>Genres_Simulation</th>                            <td>   -0.0782</td> <td>    0.054</td> <td>   -1.462</td> <td> 0.144</td> <td>   -0.183</td> <td>    0.027</td>\n",
       "</tr>\n",
       "<tr>\n",
       "  <th>Genres_Simulation_Action_&_Adventure</th>         <td>    0.2015</td> <td>    0.210</td> <td>    0.957</td> <td> 0.338</td> <td>   -0.211</td> <td>    0.614</td>\n",
       "</tr>\n",
       "<tr>\n",
       "  <th>Genres_Simulation_Education</th>                  <td>    0.0417</td> <td>    0.363</td> <td>    0.115</td> <td> 0.909</td> <td>   -0.669</td> <td>    0.753</td>\n",
       "</tr>\n",
       "<tr>\n",
       "  <th>Genres_Simulation_Pretend_Play</th>               <td>    0.0171</td> <td>    0.297</td> <td>    0.058</td> <td> 0.954</td> <td>   -0.565</td> <td>    0.599</td>\n",
       "</tr>\n",
       "<tr>\n",
       "  <th>Genres_Social</th>                                <td>    0.0036</td> <td>    0.055</td> <td>    0.065</td> <td> 0.948</td> <td>   -0.103</td> <td>    0.111</td>\n",
       "</tr>\n",
       "<tr>\n",
       "  <th>Genres_Sports</th>                                <td>   -0.0529</td> <td>    0.047</td> <td>   -1.119</td> <td> 0.263</td> <td>   -0.146</td> <td>    0.040</td>\n",
       "</tr>\n",
       "<tr>\n",
       "  <th>Genres_Sports_Action_&_Adventure</th>             <td>   -0.1347</td> <td>    0.363</td> <td>   -0.371</td> <td> 0.711</td> <td>   -0.847</td> <td>    0.578</td>\n",
       "</tr>\n",
       "<tr>\n",
       "  <th>Genres_Strategy</th>                              <td>   -0.1621</td> <td>    0.079</td> <td>   -2.051</td> <td> 0.040</td> <td>   -0.317</td> <td>   -0.007</td>\n",
       "</tr>\n",
       "<tr>\n",
       "  <th>Genres_Strategy_Action_&_Adventure</th>           <td> 2.228e-16</td> <td> 2.25e-16</td> <td>    0.992</td> <td> 0.321</td> <td>-2.17e-16</td> <td> 6.63e-16</td>\n",
       "</tr>\n",
       "<tr>\n",
       "  <th>Genres_Strategy_Creativity</th>                   <td>   -0.1571</td> <td>    0.512</td> <td>   -0.307</td> <td> 0.759</td> <td>   -1.161</td> <td>    0.847</td>\n",
       "</tr>\n",
       "<tr>\n",
       "  <th>Genres_Strategy_Education</th>                    <td>    0.5565</td> <td>    0.512</td> <td>    1.087</td> <td> 0.277</td> <td>   -0.447</td> <td>    1.560</td>\n",
       "</tr>\n",
       "<tr>\n",
       "  <th>Genres_Tools</th>                                 <td>   -0.1093</td> <td>    0.036</td> <td>   -3.039</td> <td> 0.002</td> <td>   -0.180</td> <td>   -0.039</td>\n",
       "</tr>\n",
       "<tr>\n",
       "  <th>Genres_Travel_&_Local</th>                        <td>   -0.0839</td> <td>    0.055</td> <td>   -1.516</td> <td> 0.130</td> <td>   -0.192</td> <td>    0.025</td>\n",
       "</tr>\n",
       "<tr>\n",
       "  <th>Genres_Travel_&_Local_Action_&_Adventure</th>     <td>         0</td> <td>        0</td> <td>      nan</td> <td>   nan</td> <td>        0</td> <td>        0</td>\n",
       "</tr>\n",
       "<tr>\n",
       "  <th>Genres_Trivia</th>                                <td>   -0.2730</td> <td>    0.117</td> <td>   -2.324</td> <td> 0.020</td> <td>   -0.503</td> <td>   -0.043</td>\n",
       "</tr>\n",
       "<tr>\n",
       "  <th>Genres_Video_Players_&_Editors</th>               <td>   -0.1101</td> <td>    0.067</td> <td>   -1.651</td> <td> 0.099</td> <td>   -0.241</td> <td>    0.021</td>\n",
       "</tr>\n",
       "<tr>\n",
       "  <th>Genres_Video_Players_&_Editors_Creativity</th>    <td>   -0.2552</td> <td>    0.363</td> <td>   -0.704</td> <td> 0.482</td> <td>   -0.966</td> <td>    0.456</td>\n",
       "</tr>\n",
       "<tr>\n",
       "  <th>Genres_Video_Players_&_Editors_Music_&_Video</th> <td>         0</td> <td>        0</td> <td>      nan</td> <td>   nan</td> <td>        0</td> <td>        0</td>\n",
       "</tr>\n",
       "<tr>\n",
       "  <th>Genres_Weather</th>                               <td>   -0.0135</td> <td>    0.099</td> <td>   -0.137</td> <td> 0.891</td> <td>   -0.207</td> <td>    0.180</td>\n",
       "</tr>\n",
       "<tr>\n",
       "  <th>Genres_Word</th>                                  <td>    0.1244</td> <td>    0.127</td> <td>    0.980</td> <td> 0.327</td> <td>   -0.124</td> <td>    0.373</td>\n",
       "</tr>\n",
       "</table>\n",
       "<table class=\"simpletable\">\n",
       "<tr>\n",
       "  <th>Omnibus:</th>       <td>1785.970</td> <th>  Durbin-Watson:     </th> <td>   1.941</td>\n",
       "</tr>\n",
       "<tr>\n",
       "  <th>Prob(Omnibus):</th>  <td> 0.000</td>  <th>  Jarque-Bera (JB):  </th> <td>8371.333</td>\n",
       "</tr>\n",
       "<tr>\n",
       "  <th>Skew:</th>           <td>-1.589</td>  <th>  Prob(JB):          </th> <td>    0.00</td>\n",
       "</tr>\n",
       "<tr>\n",
       "  <th>Kurtosis:</th>       <td> 8.317</td>  <th>  Cond. No.          </th> <td>1.24e+21</td>\n",
       "</tr>\n",
       "</table><br/><br/>Warnings:<br/>[1] Standard Errors assume that the covariance matrix of the errors is correctly specified.<br/>[2] The smallest eigenvalue is 7.65e-32. This might indicate that there are<br/>strong multicollinearity problems or that the design matrix is singular."
      ],
      "text/plain": [
       "<class 'statsmodels.iolib.summary.Summary'>\n",
       "\"\"\"\n",
       "                            OLS Regression Results                            \n",
       "==============================================================================\n",
       "Dep. Variable:                 Rating   R-squared:                       0.150\n",
       "Model:                            OLS   Adj. R-squared:                  0.132\n",
       "Method:                 Least Squares   F-statistic:                     8.148\n",
       "Date:                Thu, 12 Jan 2023   Prob (F-statistic):          1.21e-112\n",
       "Time:                        14:14:08   Log-Likelihood:                -3910.4\n",
       "No. Observations:                5235   AIC:                             8045.\n",
       "Df Residuals:                    5123   BIC:                             8780.\n",
       "Df Model:                         111                                         \n",
       "Covariance Type:            nonrobust                                         \n",
       "================================================================================================================\n",
       "                                                   coef    std err          t      P>|t|      [0.025      0.975]\n",
       "----------------------------------------------------------------------------------------------------------------\n",
       "Reviews                                          0.1749      0.007     24.345      0.000       0.161       0.189\n",
       "Size                                         -2.058e-06      3e-06     -0.687      0.492   -7.93e-06    3.82e-06\n",
       "Installs                                        -0.1533      0.007    -21.417      0.000      -0.167      -0.139\n",
       "Price                                            0.0021      0.004      0.507      0.612      -0.006       0.010\n",
       "Type_Free                                        3.5032      0.098     35.770      0.000       3.311       3.695\n",
       "Type_Paid                                        3.4184      0.099     34.523      0.000       3.224       3.613\n",
       "Content_Rating_Adults_only_18+                   1.2830      0.458      2.804      0.005       0.386       2.180\n",
       "Content_Rating_Everyone                          1.1253      0.093     12.075      0.000       0.943       1.308\n",
       "Content_Rating_Everyone_10+                      1.0960      0.099     11.018      0.000       0.901       1.291\n",
       "Content_Rating_Mature_17+                        1.1323      0.100     11.310      0.000       0.936       1.329\n",
       "Content_Rating_Teen                              1.1459      0.095     12.034      0.000       0.959       1.333\n",
       "Content_Rating_Unrated                           1.1393      0.457      2.494      0.013       0.244       2.035\n",
       "Genres_Action                                   -0.0641      0.047     -1.350      0.177      -0.157       0.029\n",
       "Genres_Action_Action_&_Adventure                 0.1030      0.164      0.627      0.531      -0.219       0.425\n",
       "Genres_Adventure                                -0.0949      0.078     -1.218      0.223      -0.248       0.058\n",
       "Genres_Adventure_Action_&_Adventure              0.0264      0.363      0.073      0.942      -0.686       0.738\n",
       "Genres_Adventure_Brain_Games                     0.2790      0.513      0.544      0.586      -0.726       1.284\n",
       "Genres_Adventure_Education                   -1.577e-12   8.49e-12     -0.186      0.853   -1.82e-11    1.51e-11\n",
       "Genres_Arcade                                    0.0261      0.055      0.472      0.637      -0.082       0.135\n",
       "Genres_Arcade_Action_&_Adventure                 0.0875      0.164      0.534      0.593      -0.234       0.409\n",
       "Genres_Arcade_Pretend_Play                   -3.338e-12   5.99e-12     -0.557      0.578   -1.51e-11    8.41e-12\n",
       "Genres_Art_&_Design                              0.3202      0.086      3.719      0.000       0.151       0.489\n",
       "Genres_Art_&_Design_Creativity                   0.3094      0.210      1.470      0.142      -0.103       0.722\n",
       "Genres_Art_&_Design_Pretend_Play             -3.552e-12   5.63e-12     -0.631      0.528   -1.46e-11    7.49e-12\n",
       "Genres_Auto_&_Vehicles                           0.1525      0.085      1.790      0.073      -0.014       0.320\n",
       "Genres_Beauty                                    0.2346      0.104      2.256      0.024       0.031       0.438\n",
       "Genres_Board                                     0.0002      0.100      0.002      0.998      -0.196       0.197\n",
       "Genres_Board_Action_&_Adventure                  0.0708      0.512      0.138      0.890      -0.933       1.075\n",
       "Genres_Board_Brain_Games                         0.1246      0.157      0.794      0.427      -0.183       0.432\n",
       "Genres_Board_Pretend_Play                     7.728e-13   1.92e-12      0.402      0.688      -3e-12    4.54e-12\n",
       "Genres_Books_&_Reference                         0.1551      0.057      2.725      0.006       0.044       0.267\n",
       "Genres_Books_&_Reference_Education               0.5015      0.513      0.978      0.328      -0.503       1.506\n",
       "Genres_Business                                  0.0618      0.048      1.293      0.196      -0.032       0.155\n",
       "Genres_Card                                     -0.1594      0.110     -1.448      0.148      -0.375       0.056\n",
       "Genres_Card_Action_&_Adventure                  -0.1914      0.365     -0.524      0.600      -0.907       0.524\n",
       "Genres_Card_Brain_Games                      -5.623e-12   6.96e-12     -0.808      0.419   -1.93e-11    8.01e-12\n",
       "Genres_Casino                                    0.0209      0.112      0.186      0.852      -0.199       0.240\n",
       "Genres_Casual                                   -0.1187      0.061     -1.931      0.053      -0.239       0.002\n",
       "Genres_Casual_Action_&_Adventure                -0.0943      0.157     -0.602      0.547      -0.401       0.213\n",
       "Genres_Casual_Brain_Games                        0.4098      0.183      2.241      0.025       0.051       0.768\n",
       "Genres_Casual_Creativity                         0.0188      0.296      0.063      0.949      -0.562       0.600\n",
       "Genres_Casual_Education                          0.0333      0.363      0.092      0.927      -0.678       0.744\n",
       "Genres_Casual_Music_&_Video                      0.1012      0.363      0.279      0.780      -0.610       0.812\n",
       "Genres_Casual_Pretend_Play                      -0.0862      0.112     -0.767      0.443      -0.306       0.134\n",
       "Genres_Comics                                   -0.1447      0.099     -1.457      0.145      -0.339       0.050\n",
       "Genres_Comics_Creativity                         0.7394      0.512      1.444      0.149      -0.264       1.743\n",
       "Genres_Communication                            -0.0339      0.052     -0.647      0.517      -0.137       0.069\n",
       "Genres_Dating                                   -0.2260      0.066     -3.442      0.001      -0.355      -0.097\n",
       "Genres_Education                                 0.1761      0.041      4.340      0.000       0.097       0.256\n",
       "Genres_Education_Action_&_Adventure              0.3122      0.257      1.213      0.225      -0.192       0.817\n",
       "Genres_Education_Brain_Games                 -2.243e-12   2.77e-12     -0.810      0.418   -7.67e-12    3.18e-12\n",
       "Genres_Education_Creativity                      0.5146      0.257      1.999      0.046       0.010       1.019\n",
       "Genres_Education_Education                       0.2025      0.099      2.054      0.040       0.009       0.396\n",
       "Genres_Education_Music_&_Video                   0.0224      0.363      0.062      0.951      -0.688       0.733\n",
       "Genres_Education_Pretend_Play                    0.2509      0.121      2.068      0.039       0.013       0.489\n",
       "Genres_Educational                              -0.2779      0.110     -2.517      0.012      -0.494      -0.061\n",
       "Genres_Educational_Action_&_Adventure            0.1235      0.296      0.417      0.677      -0.458       0.705\n",
       "Genres_Educational_Brain_Games                   0.1295      0.230      0.562      0.574      -0.322       0.581\n",
       "Genres_Educational_Creativity                   -0.0557      0.231     -0.242      0.809      -0.508       0.396\n",
       "Genres_Educational_Education                     0.2304      0.110      2.096      0.036       0.015       0.446\n",
       "Genres_Educational_Pretend_Play                  0.0735      0.139      0.527      0.598      -0.200       0.347\n",
       "Genres_Entertainment                            -0.0563      0.039     -1.428      0.153      -0.134       0.021\n",
       "Genres_Entertainment_Action_&_Adventure          0.3739      0.512      0.730      0.465      -0.630       1.378\n",
       "Genres_Entertainment_Brain_Games                 0.0542      0.257      0.211      0.833      -0.450       0.558\n",
       "Genres_Entertainment_Creativity                  0.3916      0.363      1.080      0.280      -0.319       1.102\n",
       "Genres_Entertainment_Education                   0.3346      0.512      0.653      0.514      -0.669       1.338\n",
       "Genres_Entertainment_Music_&_Video              -0.0066      0.158     -0.042      0.967      -0.316       0.303\n",
       "Genres_Entertainment_Pretend_Play               -0.2879      0.363     -0.794      0.427      -0.999       0.423\n",
       "Genres_Events                                    0.3603      0.099      3.646      0.000       0.167       0.554\n",
       "Genres_Finance                                  -0.0878      0.047     -1.888      0.059      -0.179       0.003\n",
       "Genres_Food_&_Drink                             -0.0311      0.073     -0.424      0.672      -0.175       0.113\n",
       "Genres_Health_&_Fitness                          0.0077      0.048      0.159      0.874      -0.087       0.102\n",
       "Genres_Health_&_Fitness_Action_&_Adventure      -0.4032      0.512     -0.787      0.431      -1.407       0.601\n",
       "Genres_Health_&_Fitness_Education                0.2389      0.512      0.466      0.641      -0.765       1.243\n",
       "Genres_House_&_Home                              0.0187      0.086      0.217      0.828      -0.150       0.188\n",
       "Genres_Libraries_&_Demo                          0.1843      0.080      2.300      0.022       0.027       0.341\n",
       "Genres_Lifestyle                                -0.0619      0.044     -1.392      0.164      -0.149       0.025\n",
       "Genres_Lifestyle_Pretend_Play                   -0.2114      0.512     -0.413      0.680      -1.216       0.793\n",
       "Genres_Maps_&_Navigation                        -0.1372      0.072     -1.901      0.057      -0.279       0.004\n",
       "Genres_Medical                                   0.0536      0.044      1.217      0.224      -0.033       0.140\n",
       "Genres_Music                                    -0.2140      0.157     -1.366      0.172      -0.521       0.093\n",
       "Genres_Music_&_Audio_Music_&_Video               0.4396      0.512      0.858      0.391      -0.565       1.444\n",
       "Genres_Music_Music_&_Video                       0.2766      0.362      0.763      0.445      -0.434       0.987\n",
       "Genres_News_&_Magazines                          0.0222      0.054      0.408      0.684      -0.085       0.129\n",
       "Genres_Parenting                                 0.3071      0.102      3.011      0.003       0.107       0.507\n",
       "Genres_Parenting_Brain_Games                    -0.1373      0.512     -0.268      0.789      -1.141       0.867\n",
       "Genres_Parenting_Education                      -0.0834      0.297     -0.281      0.778      -0.665       0.498\n",
       "Genres_Parenting_Music_&_Video                   0.6796      0.297      2.292      0.022       0.098       1.261\n",
       "Genres_Personalization                           0.1407      0.045      3.100      0.002       0.052       0.230\n",
       "Genres_Photography                              -0.0429      0.047     -0.906      0.365      -0.136       0.050\n",
       "Genres_Productivity                             -0.0546      0.048     -1.138      0.255      -0.149       0.039\n",
       "Genres_Puzzle                                    0.1055      0.070      1.505      0.132      -0.032       0.243\n",
       "Genres_Puzzle_Action_&_Adventure                 0.0432      0.257      0.168      0.866      -0.461       0.547\n",
       "Genres_Puzzle_Brain_Games                        0.1492      0.131      1.143      0.253      -0.107       0.405\n",
       "Genres_Puzzle_Creativity                         0.2680      0.512      0.523      0.601      -0.736       1.272\n",
       "Genres_Puzzle_Education                          0.5639      0.512      1.101      0.271      -0.440       1.568\n",
       "Genres_Racing                                   -0.1196      0.076     -1.577      0.115      -0.268       0.029\n",
       "Genres_Racing_Action_&_Adventure                 0.1499      0.173      0.869      0.385      -0.188       0.488\n",
       "Genres_Racing_Pretend_Play                     3.55e-13   5.99e-13      0.593      0.553   -8.19e-13    1.53e-12\n",
       "Genres_Role_Playing                             -0.0849      0.071     -1.196      0.232      -0.224       0.054\n",
       "Genres_Role_Playing_Action_&_Adventure          -0.0268      0.257     -0.104      0.917      -0.531       0.478\n",
       "Genres_Role_Playing_Brain_Games                  0.0667      0.512      0.130      0.896      -0.937       1.070\n",
       "Genres_Role_Playing_Pretend_Play                -0.0757      0.257     -0.294      0.769      -0.580       0.428\n",
       "Genres_Shopping                                  0.0354      0.054      0.651      0.515      -0.071       0.142\n",
       "Genres_Simulation                               -0.0782      0.054     -1.462      0.144      -0.183       0.027\n",
       "Genres_Simulation_Action_&_Adventure             0.2015      0.210      0.957      0.338      -0.211       0.614\n",
       "Genres_Simulation_Education                      0.0417      0.363      0.115      0.909      -0.669       0.753\n",
       "Genres_Simulation_Pretend_Play                   0.0171      0.297      0.058      0.954      -0.565       0.599\n",
       "Genres_Social                                    0.0036      0.055      0.065      0.948      -0.103       0.111\n",
       "Genres_Sports                                   -0.0529      0.047     -1.119      0.263      -0.146       0.040\n",
       "Genres_Sports_Action_&_Adventure                -0.1347      0.363     -0.371      0.711      -0.847       0.578\n",
       "Genres_Strategy                                 -0.1621      0.079     -2.051      0.040      -0.317      -0.007\n",
       "Genres_Strategy_Action_&_Adventure            2.228e-16   2.25e-16      0.992      0.321   -2.17e-16    6.63e-16\n",
       "Genres_Strategy_Creativity                      -0.1571      0.512     -0.307      0.759      -1.161       0.847\n",
       "Genres_Strategy_Education                        0.5565      0.512      1.087      0.277      -0.447       1.560\n",
       "Genres_Tools                                    -0.1093      0.036     -3.039      0.002      -0.180      -0.039\n",
       "Genres_Travel_&_Local                           -0.0839      0.055     -1.516      0.130      -0.192       0.025\n",
       "Genres_Travel_&_Local_Action_&_Adventure              0          0        nan        nan           0           0\n",
       "Genres_Trivia                                   -0.2730      0.117     -2.324      0.020      -0.503      -0.043\n",
       "Genres_Video_Players_&_Editors                  -0.1101      0.067     -1.651      0.099      -0.241       0.021\n",
       "Genres_Video_Players_&_Editors_Creativity       -0.2552      0.363     -0.704      0.482      -0.966       0.456\n",
       "Genres_Video_Players_&_Editors_Music_&_Video          0          0        nan        nan           0           0\n",
       "Genres_Weather                                  -0.0135      0.099     -0.137      0.891      -0.207       0.180\n",
       "Genres_Word                                      0.1244      0.127      0.980      0.327      -0.124       0.373\n",
       "==============================================================================\n",
       "Omnibus:                     1785.970   Durbin-Watson:                   1.941\n",
       "Prob(Omnibus):                  0.000   Jarque-Bera (JB):             8371.333\n",
       "Skew:                          -1.589   Prob(JB):                         0.00\n",
       "Kurtosis:                       8.317   Cond. No.                     1.24e+21\n",
       "==============================================================================\n",
       "\n",
       "Warnings:\n",
       "[1] Standard Errors assume that the covariance matrix of the errors is correctly specified.\n",
       "[2] The smallest eigenvalue is 7.65e-32. This might indicate that there are\n",
       "strong multicollinearity problems or that the design matrix is singular.\n",
       "\"\"\""
      ]
     },
     "execution_count": 215,
     "metadata": {},
     "output_type": "execute_result"
    }
   ],
   "source": [
    "#Finding the summary\n",
    "model1.summary()"
   ]
  },
  {
   "cell_type": "code",
   "execution_count": 220,
   "metadata": {},
   "outputs": [],
   "source": [
    "#Prediction and evaluation\n",
    "import sklearn.metrics as metrics\n",
    "y_test_pred= model1.predict(X_test)"
   ]
  },
  {
   "cell_type": "code",
   "execution_count": 221,
   "metadata": {},
   "outputs": [
    {
     "name": "stdout",
     "output_type": "stream",
     "text": [
      "0.50196233845831\n"
     ]
    }
   ],
   "source": [
    "#Assessing the model using RMSE\n",
    "print(np.sqrt(metrics.mean_squared_error(y_test, y_test_pred)))"
   ]
  },
  {
   "cell_type": "code",
   "execution_count": 224,
   "metadata": {},
   "outputs": [
    {
     "name": "stdout",
     "output_type": "stream",
     "text": [
      "MPE: -2.2201442049822195\n"
     ]
    }
   ],
   "source": [
    "#Calculating MPE\n",
    "def MPE(y_test_pred,y_test):\n",
    "    return ( ((y_test - y_test_pred) / y_test).mean()) * 100\n",
    "print ('MPE: ' + str(MPE(y_test_pred,y_test)) )"
   ]
  },
  {
   "cell_type": "code",
   "execution_count": 225,
   "metadata": {},
   "outputs": [
    {
     "name": "stdout",
     "output_type": "stream",
     "text": [
      "MAPE: 10.04303224685645\n"
     ]
    }
   ],
   "source": [
    "#Calculating MAPE\n",
    "def MAPE(y_test_pred,y_test):\n",
    "    return np.mean(np.abs((y_test - y_test_pred) / y_test)) * 100\n",
    "print ('MAPE: ' + str(MAPE(y_test_pred,y_test)) )"
   ]
  },
  {
   "cell_type": "code",
   "execution_count": null,
   "metadata": {},
   "outputs": [],
   "source": []
  }
 ],
 "metadata": {
  "kernelspec": {
   "display_name": "Python 3",
   "language": "python",
   "name": "python3"
  },
  "language_info": {
   "codemirror_mode": {
    "name": "ipython",
    "version": 3
   },
   "file_extension": ".py",
   "mimetype": "text/x-python",
   "name": "python",
   "nbconvert_exporter": "python",
   "pygments_lexer": "ipython3",
   "version": "3.8.3"
  }
 },
 "nbformat": 4,
 "nbformat_minor": 4
}
